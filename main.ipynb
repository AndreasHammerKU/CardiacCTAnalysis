{
  "cells": [
    {
      "cell_type": "markdown",
      "source": [
        "Import"
      ],
      "metadata": {
        "id": "6RQrmsSvQSPm"
      }
    },
    {
      "cell_type": "code",
      "execution_count": 3,
      "metadata": {
        "id": "n2SDSNvHQBqh",
        "outputId": "c63fc17a-a7ce-47c5-a803-11eea475cdec",
        "colab": {
          "base_uri": "https://localhost:8080/"
        }
      },
      "outputs": [
        {
          "output_type": "stream",
          "name": "stdout",
          "text": [
            "Cloning into 'CardiacCTAnalysis'...\n",
            "remote: Enumerating objects: 15, done.\u001b[K\n",
            "remote: Counting objects:   6% (1/15)\u001b[K\rremote: Counting objects:  13% (2/15)\u001b[K\rremote: Counting objects:  20% (3/15)\u001b[K\rremote: Counting objects:  26% (4/15)\u001b[K\rremote: Counting objects:  33% (5/15)\u001b[K\rremote: Counting objects:  40% (6/15)\u001b[K\rremote: Counting objects:  46% (7/15)\u001b[K\rremote: Counting objects:  53% (8/15)\u001b[K\rremote: Counting objects:  60% (9/15)\u001b[K\rremote: Counting objects:  66% (10/15)\u001b[K\rremote: Counting objects:  73% (11/15)\u001b[K\rremote: Counting objects:  80% (12/15)\u001b[K\rremote: Counting objects:  86% (13/15)\u001b[K\rremote: Counting objects:  93% (14/15)\u001b[K\rremote: Counting objects: 100% (15/15)\u001b[K\rremote: Counting objects: 100% (15/15), done.\u001b[K\n",
            "remote: Compressing objects:   8% (1/12)\u001b[K\rremote: Compressing objects:  16% (2/12)\u001b[K\rremote: Compressing objects:  25% (3/12)\u001b[K\rremote: Compressing objects:  33% (4/12)\u001b[K\rremote: Compressing objects:  41% (5/12)\u001b[K\rremote: Compressing objects:  50% (6/12)\u001b[K\rremote: Compressing objects:  58% (7/12)\u001b[K\rremote: Compressing objects:  66% (8/12)\u001b[K\rremote: Compressing objects:  75% (9/12)\u001b[K\rremote: Compressing objects:  83% (10/12)\u001b[K\rremote: Compressing objects:  91% (11/12)\u001b[K\rremote: Compressing objects: 100% (12/12)\u001b[K\rremote: Compressing objects: 100% (12/12), done.\u001b[K\n",
            "remote: Total 15 (delta 1), reused 11 (delta 0), pack-reused 0 (from 0)\u001b[K\n",
            "Receiving objects:   6% (1/15)\rReceiving objects:  13% (2/15)\rReceiving objects:  20% (3/15)\rReceiving objects:  26% (4/15)\rReceiving objects:  33% (5/15)\rReceiving objects:  40% (6/15)\rReceiving objects:  46% (7/15)\rReceiving objects:  53% (8/15)\rReceiving objects:  60% (9/15)\rReceiving objects:  66% (10/15)\rReceiving objects:  73% (11/15)\rReceiving objects:  80% (12/15)\rReceiving objects:  86% (13/15)\rReceiving objects:  93% (14/15)\rReceiving objects: 100% (15/15)\rReceiving objects: 100% (15/15), done.\n",
            "Resolving deltas:   0% (0/1)\rResolving deltas: 100% (1/1)\rResolving deltas: 100% (1/1), done.\n",
            "/content/CardiacCTAnalysis/CardiacCTAnalysis\n"
          ]
        }
      ],
      "source": [
        "!git clone https://github.com/AndreasHammerKU/CardiacCTAnalysis.git\n",
        "%cd CardiacCTAnalysis"
      ]
    },
    {
      "cell_type": "code",
      "source": [
        "from google.colab import drive\n",
        "drive.mount('/content/drive')\n",
        "\n",
        "dataset_folder = '/content/drive/MyDrive/Data'"
      ],
      "metadata": {
        "id": "fSdqbyhyQJh9",
        "outputId": "d770564f-8275-4457-cac3-b54601aade32",
        "colab": {
          "base_uri": "https://localhost:8080/"
        }
      },
      "execution_count": 10,
      "outputs": [
        {
          "output_type": "stream",
          "name": "stdout",
          "text": [
            "Drive already mounted at /content/drive; to attempt to forcibly remount, call drive.mount(\"/content/drive\", force_remount=True).\n"
          ]
        }
      ]
    },
    {
      "cell_type": "code",
      "source": [
        "import utils.visualiser as vis\n",
        "import os"
      ],
      "metadata": {
        "id": "1QBGQLt-QfBy"
      },
      "execution_count": 6,
      "outputs": []
    },
    {
      "cell_type": "code",
      "source": [
        "import nibabel as nib\n",
        "import numpy as np\n",
        "import plotly.graph_objects as go\n",
        "\n",
        "def plot_3d_volume(file_path):\n",
        "    img = nib.load(file_path).get_fdata()\n",
        "    fig = go.Figure(data=go.Volume(\n",
        "        x=np.arange(img.shape[0]),\n",
        "        y=np.arange(img.shape[1]),\n",
        "        z=np.arange(img.shape[2]),\n",
        "        value=img.flatten(),\n",
        "        opacity=0.1,  # Adjust for better visibility\n",
        "        surface_count=20  # Number of layers to render\n",
        "    ))\n",
        "    fig.show()"
      ],
      "metadata": {
        "id": "aEn5DntMRpoS"
      },
      "execution_count": 13,
      "outputs": []
    },
    {
      "cell_type": "code",
      "source": [
        "file_path = os.path.join(dataset_folder, 'images', 'n1.nii.gz')  # Replace with your actual file path\n",
        "plot_3d_volume(file_path)"
      ],
      "metadata": {
        "id": "uSA0vETcQmdL"
      },
      "execution_count": 14,
      "outputs": []
    }
  ],
  "metadata": {
    "kernelspec": {
      "display_name": "Python 3",
      "language": "python",
      "name": "python3"
    },
    "language_info": {
      "codemirror_mode": {
        "name": "ipython",
        "version": 3
      },
      "file_extension": ".py",
      "mimetype": "text/x-python",
      "name": "python",
      "nbconvert_exporter": "python",
      "pygments_lexer": "ipython3",
      "version": "3.8"
    },
    "colab": {
      "provenance": []
    }
  },
  "nbformat": 4,
  "nbformat_minor": 0
}