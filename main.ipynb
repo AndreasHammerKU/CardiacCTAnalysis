{
  "cells": [
    {
      "cell_type": "markdown",
      "source": [
        "Import"
      ],
      "metadata": {
        "id": "6RQrmsSvQSPm"
      }
    },
    {
      "cell_type": "code",
      "execution_count": 1,
      "metadata": {
        "id": "n2SDSNvHQBqh",
        "outputId": "923c97c3-413b-433c-aa75-1be8521b4c47",
        "colab": {
          "base_uri": "https://localhost:8080/"
        }
      },
      "outputs": [
        {
          "output_type": "stream",
          "name": "stdout",
          "text": [
            "Cloning into 'CardiacCTAnalysis'...\n",
            "remote: Enumerating objects: 175, done.\u001b[K\n",
            "remote: Counting objects: 100% (175/175), done.\u001b[K\n",
            "remote: Compressing objects: 100% (132/132), done.\u001b[K\n",
            "remote: Total 175 (delta 83), reused 116 (delta 36), pack-reused 0 (from 0)\u001b[K\n",
            "Receiving objects: 100% (175/175), 808.25 KiB | 21.84 MiB/s, done.\n",
            "Resolving deltas: 100% (83/83), done.\n",
            "/content/CardiacCTAnalysis\n",
            "Branch 'baseline_implementation' set up to track remote branch 'baseline_implementation' from 'origin'.\n",
            "Switched to a new branch 'baseline_implementation'\n"
          ]
        }
      ],
      "source": [
        "!git clone https://github.com/AndreasHammerKU/CardiacCTAnalysis.git\n",
        "%cd CardiacCTAnalysis\n",
        "!git checkout baseline_implementation"
      ]
    },
    {
      "cell_type": "markdown",
      "source": [
        "Imports from Github Repository"
      ],
      "metadata": {
        "id": "LJKnX8kpFqeE"
      }
    },
    {
      "cell_type": "code",
      "source": [
        "!pip install dash\n",
        "import numpy as np\n",
        "\n",
        "# Custom Imports\n",
        "import utils.io_utils as io\n",
        "import utils.logger as logs\n",
        "from baseline.BaseEnvironment import MedicalImageEnvironment\n",
        "from utils.io_utils import DataLoader\n",
        "from baseline.BaseAgent import DQNAgent\n",
        "\n",
        "# Mount Drive\n",
        "from google.colab import drive\n",
        "drive.mount('/content/drive')\n",
        "\n",
        "dataset_folder = '/content/drive/MyDrive/Data'"
      ],
      "metadata": {
        "id": "fSdqbyhyQJh9",
        "outputId": "9a2a03a4-aca6-48f0-ce58-6880237f686b",
        "colab": {
          "base_uri": "https://localhost:8080/",
          "height": 1000
        }
      },
      "execution_count": 2,
      "outputs": [
        {
          "output_type": "stream",
          "name": "stdout",
          "text": [
            "Collecting dash\n",
            "  Downloading dash-2.18.2-py3-none-any.whl.metadata (10 kB)\n",
            "Collecting Flask<3.1,>=1.0.4 (from dash)\n",
            "  Downloading flask-3.0.3-py3-none-any.whl.metadata (3.2 kB)\n",
            "Collecting Werkzeug<3.1 (from dash)\n",
            "  Downloading werkzeug-3.0.6-py3-none-any.whl.metadata (3.7 kB)\n",
            "Requirement already satisfied: plotly>=5.0.0 in /usr/local/lib/python3.11/dist-packages (from dash) (5.24.1)\n",
            "Collecting dash-html-components==2.0.0 (from dash)\n",
            "  Downloading dash_html_components-2.0.0-py3-none-any.whl.metadata (3.8 kB)\n",
            "Collecting dash-core-components==2.0.0 (from dash)\n",
            "  Downloading dash_core_components-2.0.0-py3-none-any.whl.metadata (2.9 kB)\n",
            "Collecting dash-table==5.0.0 (from dash)\n",
            "  Downloading dash_table-5.0.0-py3-none-any.whl.metadata (2.4 kB)\n",
            "Requirement already satisfied: importlib-metadata in /usr/local/lib/python3.11/dist-packages (from dash) (8.6.1)\n",
            "Requirement already satisfied: typing-extensions>=4.1.1 in /usr/local/lib/python3.11/dist-packages (from dash) (4.12.2)\n",
            "Requirement already satisfied: requests in /usr/local/lib/python3.11/dist-packages (from dash) (2.32.3)\n",
            "Collecting retrying (from dash)\n",
            "  Downloading retrying-1.3.4-py3-none-any.whl.metadata (6.9 kB)\n",
            "Requirement already satisfied: nest-asyncio in /usr/local/lib/python3.11/dist-packages (from dash) (1.6.0)\n",
            "Requirement already satisfied: setuptools in /usr/local/lib/python3.11/dist-packages (from dash) (75.1.0)\n",
            "Requirement already satisfied: Jinja2>=3.1.2 in /usr/local/lib/python3.11/dist-packages (from Flask<3.1,>=1.0.4->dash) (3.1.5)\n",
            "Requirement already satisfied: itsdangerous>=2.1.2 in /usr/local/lib/python3.11/dist-packages (from Flask<3.1,>=1.0.4->dash) (2.2.0)\n",
            "Requirement already satisfied: click>=8.1.3 in /usr/local/lib/python3.11/dist-packages (from Flask<3.1,>=1.0.4->dash) (8.1.8)\n",
            "Requirement already satisfied: blinker>=1.6.2 in /usr/local/lib/python3.11/dist-packages (from Flask<3.1,>=1.0.4->dash) (1.9.0)\n",
            "Requirement already satisfied: tenacity>=6.2.0 in /usr/local/lib/python3.11/dist-packages (from plotly>=5.0.0->dash) (9.0.0)\n",
            "Requirement already satisfied: packaging in /usr/local/lib/python3.11/dist-packages (from plotly>=5.0.0->dash) (24.2)\n",
            "Requirement already satisfied: MarkupSafe>=2.1.1 in /usr/local/lib/python3.11/dist-packages (from Werkzeug<3.1->dash) (3.0.2)\n",
            "Requirement already satisfied: zipp>=3.20 in /usr/local/lib/python3.11/dist-packages (from importlib-metadata->dash) (3.21.0)\n",
            "Requirement already satisfied: charset-normalizer<4,>=2 in /usr/local/lib/python3.11/dist-packages (from requests->dash) (3.4.1)\n",
            "Requirement already satisfied: idna<4,>=2.5 in /usr/local/lib/python3.11/dist-packages (from requests->dash) (3.10)\n",
            "Requirement already satisfied: urllib3<3,>=1.21.1 in /usr/local/lib/python3.11/dist-packages (from requests->dash) (2.3.0)\n",
            "Requirement already satisfied: certifi>=2017.4.17 in /usr/local/lib/python3.11/dist-packages (from requests->dash) (2025.1.31)\n",
            "Requirement already satisfied: six>=1.7.0 in /usr/local/lib/python3.11/dist-packages (from retrying->dash) (1.17.0)\n",
            "Downloading dash-2.18.2-py3-none-any.whl (7.8 MB)\n",
            "\u001b[2K   \u001b[90m━━━━━━━━━━━━━━━━━━━━━━━━━━━━━━━━━━━━━━━━\u001b[0m \u001b[32m7.8/7.8 MB\u001b[0m \u001b[31m26.7 MB/s\u001b[0m eta \u001b[36m0:00:00\u001b[0m\n",
            "\u001b[?25hDownloading dash_core_components-2.0.0-py3-none-any.whl (3.8 kB)\n",
            "Downloading dash_html_components-2.0.0-py3-none-any.whl (4.1 kB)\n",
            "Downloading dash_table-5.0.0-py3-none-any.whl (3.9 kB)\n",
            "Downloading flask-3.0.3-py3-none-any.whl (101 kB)\n",
            "\u001b[2K   \u001b[90m━━━━━━━━━━━━━━━━━━━━━━━━━━━━━━━━━━━━━━━━\u001b[0m \u001b[32m101.7/101.7 kB\u001b[0m \u001b[31m7.3 MB/s\u001b[0m eta \u001b[36m0:00:00\u001b[0m\n",
            "\u001b[?25hDownloading werkzeug-3.0.6-py3-none-any.whl (227 kB)\n",
            "\u001b[2K   \u001b[90m━━━━━━━━━━━━━━━━━━━━━━━━━━━━━━━━━━━━━━━━\u001b[0m \u001b[32m228.0/228.0 kB\u001b[0m \u001b[31m12.8 MB/s\u001b[0m eta \u001b[36m0:00:00\u001b[0m\n",
            "\u001b[?25hDownloading retrying-1.3.4-py3-none-any.whl (11 kB)\n",
            "Installing collected packages: dash-table, dash-html-components, dash-core-components, Werkzeug, retrying, Flask, dash\n",
            "  Attempting uninstall: Werkzeug\n",
            "    Found existing installation: Werkzeug 3.1.3\n",
            "    Uninstalling Werkzeug-3.1.3:\n",
            "      Successfully uninstalled Werkzeug-3.1.3\n",
            "  Attempting uninstall: Flask\n",
            "    Found existing installation: Flask 3.1.0\n",
            "    Uninstalling Flask-3.1.0:\n",
            "      Successfully uninstalled Flask-3.1.0\n",
            "Successfully installed Flask-3.0.3 Werkzeug-3.0.6 dash-2.18.2 dash-core-components-2.0.0 dash-html-components-2.0.0 dash-table-5.0.0 retrying-1.3.4\n",
            "Mounted at /content/drive\n"
          ]
        }
      ]
    },
    {
      "cell_type": "markdown",
      "source": [
        "Hyperparameters"
      ],
      "metadata": {
        "id": "cxBDHDMiF2i1"
      }
    },
    {
      "cell_type": "code",
      "source": [
        "MAX_STEPS = 500\n",
        "EPISODES = 50\n",
        "IMAGE_INTERVAL = 2\n",
        "AGENTS = 1\n",
        "N_SAMPLE_POINTS = 5\n",
        "EVALUATION_STEPS = 30"
      ],
      "metadata": {
        "id": "1w1a_ccfVjkb"
      },
      "execution_count": 3,
      "outputs": []
    },
    {
      "cell_type": "code",
      "source": [
        "debug = False\n",
        "\n",
        "# Colab not enough RAM\n",
        "preload_images = False\n",
        "logger = logs.setup_logger(debug)\n",
        "\n",
        "dataLoader = DataLoader(dataset_folder)"
      ],
      "metadata": {
        "id": "0RQItLAVVltN"
      },
      "execution_count": 4,
      "outputs": []
    },
    {
      "cell_type": "markdown",
      "source": [
        "Training"
      ],
      "metadata": {
        "id": "sZ2Tp0BAGWQl"
      }
    },
    {
      "cell_type": "code",
      "source": [
        "# Initialize training environment\n",
        "train_env = MedicalImageEnvironment(logger=logger,\n",
        "                              dataLoader=dataLoader,\n",
        "                              image_list=['n1', 'n2', 'n3', 'n4', 'n5', 'n6', 'n7', 'n8', 'n9', 'n10', 'n11', 'n12', 'n13', 'n14', 'n15', 'n16', 'n17', 'n18', 'n19', 'n20', 'n21', 'n22', 'n23', 'n24', 'n25', 'n26', 'n27', 'n28', 'n29', 'n30'],\n",
        "                              agents=AGENTS,\n",
        "                              n_sample_points=N_SAMPLE_POINTS,\n",
        "                              preload_images=preload_images)\n",
        "eval_env = MedicalImageEnvironment(logger=logger,\n",
        "                              task=\"eval\",\n",
        "                              dataLoader=dataLoader,\n",
        "                              image_list=['n31', 'n32', 'n33', 'n34', 'n35', 'n36', 'n37', 'n38', 'n39', 'n40'],\n",
        "                              agents=AGENTS,\n",
        "                              n_sample_points=N_SAMPLE_POINTS)\n",
        "agent = DQNAgent(train_environment=train_env,\n",
        "                 eval_environment=eval_env,\n",
        "                 task=\"train\",\n",
        "                 logger=logger,\n",
        "                 state_dim=train_env.state_size,\n",
        "                 action_dim=train_env.n_actions,\n",
        "                 agents=AGENTS,\n",
        "                 max_steps=MAX_STEPS,\n",
        "                 episodes=EPISODES,\n",
        "                 image_interval=IMAGE_INTERVAL,\n",
        "                 evaluation_steps=EVALUATION_STEPS)\n",
        "\n",
        "agent.train_dqn()"
      ],
      "metadata": {
        "id": "pmwL5j9cWDfy",
        "outputId": "574a9172-fdcd-44d3-b048-f4f24692390a",
        "colab": {
          "base_uri": "https://localhost:8080/"
        }
      },
      "execution_count": 5,
      "outputs": [
        {
          "output_type": "stream",
          "name": "stderr",
          "text": [
            "INFO:Logger:Episode 1: Total Reward = -19.86 | Reached Goal False | Closest Point = 14.46 | Furthest Point = 40.57\n",
            "INFO:Logger:Episode 2: Total Reward = -1.82 | Reached Goal False | Closest Point = 5.39 | Furthest Point = 31.00\n",
            "INFO:Logger:Episode 3: Total Reward = -21.91 | Reached Goal False | Closest Point = 17.15 | Furthest Point = 45.06\n",
            "INFO:Logger:Episode 4: Total Reward = 16.56 | Reached Goal False | Closest Point = 2.00 | Furthest Point = 36.74\n",
            "INFO:Logger:Episode 5: Total Reward = 5.35 | Reached Goal False | Closest Point = 4.24 | Furthest Point = 31.24\n",
            "INFO:Logger:Episode 6: Total Reward = 11.17 | Reached Goal False | Closest Point = 1.73 | Furthest Point = 21.42\n",
            "INFO:Logger:Episode 7: Total Reward = 13.78 | Reached Goal False | Closest Point = 1.00 | Furthest Point = 22.58\n",
            "INFO:Logger:Episode 8: Total Reward = 21.66 | Reached Goal True | Closest Point = 0.00 | Furthest Point = 23.43\n",
            "INFO:Logger:Episode 9: Total Reward = -21.98 | Reached Goal False | Closest Point = 29.14 | Furthest Point = 52.84\n",
            "INFO:Logger:Episode 10: Total Reward = 7.56 | Reached Goal False | Closest Point = 11.00 | Furthest Point = 36.25\n",
            "INFO:Logger:===== Validation Run =====\n",
            "INFO:Logger:Evaluation Episode 1: Total Reward = -18.13 | Reached Goal False | Closest Point = 22.41 | Furthest Point = 40.42\n",
            "INFO:Logger:Evaluation Episode 2: Total Reward = -20.31 | Reached Goal False | Closest Point = 23.77 | Furthest Point = 44.10\n",
            "INFO:Logger:Evaluation Episode 3: Total Reward = -12.34 | Reached Goal False | Closest Point = 24.74 | Furthest Point = 37.26\n",
            "INFO:Logger:Evaluation Episode 4: Total Reward = -18.24 | Reached Goal False | Closest Point = 25.71 | Furthest Point = 43.69\n",
            "INFO:Logger:Evaluation Episode 5: Total Reward = -15.79 | Reached Goal False | Closest Point = 20.05 | Furthest Point = 34.90\n",
            "INFO:Logger:Evaluation Episode 6: Total Reward = -15.68 | Reached Goal False | Closest Point = 20.81 | Furthest Point = 36.51\n",
            "INFO:Logger:Evaluation Episode 7: Total Reward = -19.00 | Reached Goal False | Closest Point = 27.22 | Furthest Point = 45.27\n",
            "INFO:Logger:Evaluation Episode 8: Total Reward = -17.35 | Reached Goal False | Closest Point = 29.41 | Furthest Point = 46.57\n",
            "INFO:Logger:Evaluation Episode 9: Total Reward = -15.12 | Reached Goal False | Closest Point = 22.14 | Furthest Point = 37.28\n",
            "INFO:Logger:Evaluation Episode 10: Total Reward = -19.75 | Reached Goal False | Closest Point = 16.12 | Furthest Point = 35.78\n",
            "INFO:Logger:===== Evaluation Summary =====\n",
            "INFO:Logger:Average Reward: -17.17\n",
            "INFO:Logger:Success Rate: 0.00%\n",
            "INFO:Logger:Average Closest Distance: 23.24\n",
            "INFO:Logger:Average Furthest Distance: 40.18\n",
            "INFO:Logger:Episode 11: Total Reward = 9.42 | Reached Goal False | Closest Point = 3.74 | Furthest Point = 27.20\n",
            "INFO:Logger:Episode 12: Total Reward = 12.60 | Reached Goal False | Closest Point = 1.00 | Furthest Point = 18.49\n",
            "INFO:Logger:Episode 13: Total Reward = 2.98 | Reached Goal False | Closest Point = 4.12 | Furthest Point = 25.51\n",
            "INFO:Logger:Episode 14: Total Reward = 20.45 | Reached Goal True | Closest Point = 0.00 | Furthest Point = 24.41\n",
            "INFO:Logger:Episode 15: Total Reward = 20.45 | Reached Goal True | Closest Point = 0.00 | Furthest Point = 23.11\n",
            "INFO:Logger:Episode 16: Total Reward = 20.45 | Reached Goal True | Closest Point = 0.00 | Furthest Point = 27.95\n",
            "INFO:Logger:Episode 17: Total Reward = 0.79 | Reached Goal False | Closest Point = 3.74 | Furthest Point = 31.14\n",
            "INFO:Logger:Episode 18: Total Reward = 14.00 | Reached Goal False | Closest Point = 7.68 | Furthest Point = 33.63\n",
            "INFO:Logger:Episode 19: Total Reward = -6.13 | Reached Goal False | Closest Point = 16.82 | Furthest Point = 38.03\n",
            "INFO:Logger:Episode 20: Total Reward = 23.77 | Reached Goal True | Closest Point = 0.00 | Furthest Point = 27.73\n",
            "INFO:Logger:===== Validation Run =====\n",
            "INFO:Logger:Evaluation Episode 1: Total Reward = 13.81 | Reached Goal False | Closest Point = 2.83 | Furthest Point = 21.31\n",
            "INFO:Logger:Evaluation Episode 2: Total Reward = -7.24 | Reached Goal False | Closest Point = 15.03 | Furthest Point = 31.03\n",
            "INFO:Logger:Evaluation Episode 3: Total Reward = -5.64 | Reached Goal False | Closest Point = 15.52 | Furthest Point = 30.56\n",
            "INFO:Logger:Evaluation Episode 4: Total Reward = -4.23 | Reached Goal False | Closest Point = 15.52 | Furthest Point = 29.68\n",
            "INFO:Logger:Evaluation Episode 5: Total Reward = -1.39 | Reached Goal False | Closest Point = 8.12 | Furthest Point = 20.49\n",
            "INFO:Logger:Evaluation Episode 6: Total Reward = -23.65 | Reached Goal False | Closest Point = 21.42 | Furthest Point = 44.49\n",
            "INFO:Logger:Evaluation Episode 7: Total Reward = -13.59 | Reached Goal False | Closest Point = 26.25 | Furthest Point = 39.86\n",
            "INFO:Logger:Evaluation Episode 8: Total Reward = 5.29 | Reached Goal False | Closest Point = 13.75 | Furthest Point = 28.30\n",
            "INFO:Logger:Evaluation Episode 9: Total Reward = -4.11 | Reached Goal False | Closest Point = 17.03 | Furthest Point = 26.27\n",
            "INFO:Logger:Evaluation Episode 10: Total Reward = -2.24 | Reached Goal False | Closest Point = 3.32 | Furthest Point = 18.28\n",
            "INFO:Logger:===== Evaluation Summary =====\n",
            "INFO:Logger:Average Reward: -4.30\n",
            "INFO:Logger:Success Rate: 0.00%\n",
            "INFO:Logger:Average Closest Distance: 13.88\n",
            "INFO:Logger:Average Furthest Distance: 29.03\n",
            "INFO:Logger:Episode 21: Total Reward = -52.04 | Reached Goal False | Closest Point = 6.48 | Furthest Point = 69.61\n",
            "INFO:Logger:Episode 22: Total Reward = 15.65 | Reached Goal True | Closest Point = 0.00 | Furthest Point = 16.19\n",
            "INFO:Logger:Episode 23: Total Reward = -51.22 | Reached Goal False | Closest Point = 4.69 | Furthest Point = 73.67\n",
            "INFO:Logger:Episode 24: Total Reward = -54.53 | Reached Goal False | Closest Point = 3.00 | Furthest Point = 92.65\n",
            "INFO:Logger:Episode 25: Total Reward = -19.02 | Reached Goal False | Closest Point = 3.16 | Furthest Point = 52.99\n",
            "INFO:Logger:Episode 26: Total Reward = 22.03 | Reached Goal False | Closest Point = 2.24 | Furthest Point = 27.46\n",
            "INFO:Logger:Episode 27: Total Reward = 21.50 | Reached Goal False | Closest Point = 1.00 | Furthest Point = 29.44\n",
            "INFO:Logger:Episode 28: Total Reward = 24.82 | Reached Goal True | Closest Point = 0.00 | Furthest Point = 28.44\n",
            "INFO:Logger:Episode 29: Total Reward = 24.82 | Reached Goal True | Closest Point = 0.00 | Furthest Point = 27.68\n",
            "INFO:Logger:Episode 30: Total Reward = 24.82 | Reached Goal True | Closest Point = 0.00 | Furthest Point = 26.19\n",
            "INFO:Logger:===== Validation Run =====\n",
            "INFO:Logger:Evaluation Episode 1: Total Reward = 16.46 | Reached Goal False | Closest Point = 4.12 | Furthest Point = 21.31\n",
            "INFO:Logger:Evaluation Episode 2: Total Reward = 10.34 | Reached Goal False | Closest Point = 12.08 | Furthest Point = 22.87\n",
            "INFO:Logger:Evaluation Episode 3: Total Reward = 15.22 | Reached Goal False | Closest Point = 6.71 | Furthest Point = 23.96\n",
            "INFO:Logger:Evaluation Episode 4: Total Reward = 18.46 | Reached Goal False | Closest Point = 6.32 | Furthest Point = 24.52\n",
            "INFO:Logger:Evaluation Episode 5: Total Reward = 5.91 | Reached Goal False | Closest Point = 10.49 | Furthest Point = 18.17\n",
            "INFO:Logger:Evaluation Episode 6: Total Reward = -1.73 | Reached Goal False | Closest Point = 15.62 | Furthest Point = 23.15\n",
            "INFO:Logger:Evaluation Episode 7: Total Reward = 24.03 | Reached Goal False | Closest Point = 2.24 | Furthest Point = 25.32\n",
            "INFO:Logger:Evaluation Episode 8: Total Reward = 14.63 | Reached Goal False | Closest Point = 14.35 | Furthest Point = 28.30\n",
            "INFO:Logger:Evaluation Episode 9: Total Reward = 9.43 | Reached Goal False | Closest Point = 9.27 | Furthest Point = 21.21\n",
            "INFO:Logger:Evaluation Episode 10: Total Reward = 10.93 | Reached Goal False | Closest Point = 2.00 | Furthest Point = 15.03\n",
            "INFO:Logger:===== Evaluation Summary =====\n",
            "INFO:Logger:Average Reward: 12.37\n",
            "INFO:Logger:Success Rate: 0.00%\n",
            "INFO:Logger:Average Closest Distance: 8.32\n",
            "INFO:Logger:Average Furthest Distance: 22.38\n",
            "INFO:Logger:Episode 31: Total Reward = 22.41 | Reached Goal True | Closest Point = 0.00 | Furthest Point = 25.32\n",
            "INFO:Logger:Episode 32: Total Reward = 22.41 | Reached Goal True | Closest Point = 0.00 | Furthest Point = 24.29\n",
            "INFO:Logger:Episode 33: Total Reward = 2.09 | Reached Goal False | Closest Point = 19.26 | Furthest Point = 41.48\n",
            "INFO:Logger:Episode 34: Total Reward = 21.68 | Reached Goal False | Closest Point = 2.24 | Furthest Point = 39.12\n",
            "INFO:Logger:Episode 35: Total Reward = 24.82 | Reached Goal True | Closest Point = 0.00 | Furthest Point = 26.44\n",
            "INFO:Logger:Episode 36: Total Reward = 24.82 | Reached Goal True | Closest Point = 0.00 | Furthest Point = 27.96\n",
            "INFO:Logger:Episode 37: Total Reward = 12.10 | Reached Goal False | Closest Point = 3.00 | Furthest Point = 47.36\n",
            "INFO:Logger:Episode 38: Total Reward = 16.52 | Reached Goal False | Closest Point = 1.00 | Furthest Point = 24.88\n",
            "INFO:Logger:Episode 39: Total Reward = -30.55 | Reached Goal False | Closest Point = 8.54 | Furthest Point = 65.92\n",
            "INFO:Logger:Episode 40: Total Reward = 24.19 | Reached Goal True | Closest Point = 0.00 | Furthest Point = 27.46\n",
            "INFO:Logger:===== Validation Run =====\n",
            "INFO:Logger:Evaluation Episode 1: Total Reward = 0.89 | Reached Goal False | Closest Point = 19.80 | Furthest Point = 22.89\n",
            "INFO:Logger:Evaluation Episode 2: Total Reward = -7.24 | Reached Goal False | Closest Point = 24.19 | Furthest Point = 31.03\n",
            "INFO:Logger:Evaluation Episode 3: Total Reward = 15.65 | Reached Goal False | Closest Point = 9.27 | Furthest Point = 25.06\n",
            "INFO:Logger:Evaluation Episode 4: Total Reward = 19.05 | Reached Goal False | Closest Point = 6.32 | Furthest Point = 24.52\n",
            "INFO:Logger:Evaluation Episode 5: Total Reward = 4.41 | Reached Goal False | Closest Point = 9.00 | Furthest Point = 18.17\n",
            "INFO:Logger:Evaluation Episode 6: Total Reward = -15.68 | Reached Goal False | Closest Point = 20.81 | Furthest Point = 36.51\n",
            "INFO:Logger:Evaluation Episode 7: Total Reward = 11.67 | Reached Goal False | Closest Point = 14.59 | Furthest Point = 27.80\n",
            "INFO:Logger:Evaluation Episode 8: Total Reward = 18.04 | Reached Goal False | Closest Point = 11.18 | Furthest Point = 28.30\n",
            "INFO:Logger:Evaluation Episode 9: Total Reward = 5.13 | Reached Goal False | Closest Point = 16.31 | Furthest Point = 22.34\n",
            "INFO:Logger:Evaluation Episode 10: Total Reward = -6.01 | Reached Goal False | Closest Point = 11.05 | Furthest Point = 22.05\n",
            "INFO:Logger:===== Evaluation Summary =====\n",
            "INFO:Logger:Average Reward: 4.59\n",
            "INFO:Logger:Success Rate: 0.00%\n",
            "INFO:Logger:Average Closest Distance: 14.25\n",
            "INFO:Logger:Average Furthest Distance: 25.87\n",
            "INFO:Logger:Episode 41: Total Reward = -45.07 | Reached Goal False | Closest Point = 6.16 | Furthest Point = 63.76\n",
            "INFO:Logger:Episode 42: Total Reward = -51.68 | Reached Goal False | Closest Point = 3.00 | Furthest Point = 69.00\n",
            "INFO:Logger:Episode 43: Total Reward = 6.17 | Reached Goal False | Closest Point = 7.68 | Furthest Point = 36.35\n",
            "INFO:Logger:Episode 44: Total Reward = 15.65 | Reached Goal True | Closest Point = 0.00 | Furthest Point = 16.09\n",
            "INFO:Logger:Episode 45: Total Reward = 19.79 | Reached Goal False | Closest Point = 1.41 | Furthest Point = 26.32\n",
            "INFO:Logger:Episode 46: Total Reward = 25.18 | Reached Goal True | Closest Point = 0.00 | Furthest Point = 25.98\n",
            "INFO:Logger:Episode 47: Total Reward = 2.25 | Reached Goal False | Closest Point = 1.41 | Furthest Point = 23.04\n",
            "INFO:Logger:Episode 48: Total Reward = 20.47 | Reached Goal True | Closest Point = 0.00 | Furthest Point = 21.56\n",
            "INFO:Logger:Episode 49: Total Reward = 19.40 | Reached Goal False | Closest Point = 3.00 | Furthest Point = 32.37\n",
            "INFO:Logger:Episode 50: Total Reward = 27.46 | Reached Goal True | Closest Point = 0.00 | Furthest Point = 26.78\n",
            "INFO:Logger:===== Validation Run =====\n",
            "INFO:Logger:Evaluation Episode 1: Total Reward = -3.59 | Reached Goal False | Closest Point = 22.09 | Furthest Point = 26.48\n",
            "INFO:Logger:Evaluation Episode 2: Total Reward = 3.32 | Reached Goal False | Closest Point = 20.47 | Furthest Point = 28.09\n",
            "INFO:Logger:Evaluation Episode 3: Total Reward = 9.30 | Reached Goal False | Closest Point = 13.42 | Furthest Point = 23.96\n",
            "INFO:Logger:Evaluation Episode 4: Total Reward = 16.68 | Reached Goal False | Closest Point = 7.81 | Furthest Point = 24.52\n",
            "INFO:Logger:Evaluation Episode 5: Total Reward = 3.74 | Reached Goal False | Closest Point = 13.56 | Furthest Point = 21.45\n",
            "INFO:Logger:Evaluation Episode 6: Total Reward = -4.84 | Reached Goal False | Closest Point = 16.31 | Furthest Point = 25.67\n",
            "INFO:Logger:Evaluation Episode 7: Total Reward = 19.13 | Reached Goal False | Closest Point = 7.07 | Furthest Point = 25.98\n",
            "INFO:Logger:Evaluation Episode 8: Total Reward = 4.02 | Reached Goal False | Closest Point = 14.35 | Furthest Point = 28.30\n",
            "INFO:Logger:Evaluation Episode 9: Total Reward = 7.46 | Reached Goal False | Closest Point = 14.70 | Furthest Point = 22.23\n",
            "INFO:Logger:Evaluation Episode 10: Total Reward = 3.87 | Reached Goal False | Closest Point = 9.00 | Furthest Point = 16.52\n",
            "INFO:Logger:===== Evaluation Summary =====\n",
            "INFO:Logger:Average Reward: 5.91\n",
            "INFO:Logger:Success Rate: 0.00%\n",
            "INFO:Logger:Average Closest Distance: 13.88\n",
            "INFO:Logger:Average Furthest Distance: 24.32\n"
          ]
        }
      ]
    },
    {
      "cell_type": "markdown",
      "source": [
        "Evaluate"
      ],
      "metadata": {
        "id": "GOVdGVnNHDyQ"
      }
    },
    {
      "cell_type": "code",
      "source": [
        "test_env = MedicalImageEnvironment(logger=logger,\n",
        "                              task=\"test\",\n",
        "                              dataLoader=dataLoader,\n",
        "                              image_list=['n41', 'n42', 'n43', 'n44', 'n45', 'n46', 'n47', 'n48', 'n49', 'n50'],\n",
        "                              agents=AGENTS,\n",
        "                              n_sample_points=N_SAMPLE_POINTS)\n",
        "agent = DQNAgent(train_environment=train_env,\n",
        "                 eval_environment=eval_env,\n",
        "                 test_environment=test_env,\n",
        "                 task=\"test\",\n",
        "                 logger=logger,\n",
        "                 state_dim=test_env.state_size,\n",
        "                 action_dim=test_env.n_actions,\n",
        "                 agents=AGENTS,\n",
        "                 model_path=\"latest-model.pt\",\n",
        "                 max_steps=MAX_STEPS,\n",
        "                 episodes=EPISODES,\n",
        "                 evaluation_steps=EVALUATION_STEPS\n",
        "                 )\n",
        "\n",
        "agent.test_dqn()"
      ],
      "metadata": {
        "id": "5dpulPtxVpIa",
        "outputId": "635142b4-853d-4848-d334-832da7486f15",
        "colab": {
          "base_uri": "https://localhost:8080/"
        }
      },
      "execution_count": 9,
      "outputs": [
        {
          "output_type": "stream",
          "name": "stderr",
          "text": [
            "/content/CardiacCTAnalysis/baseline/BaseAgent.py:65: FutureWarning: You are using `torch.load` with `weights_only=False` (the current default value), which uses the default pickle module implicitly. It is possible to construct malicious pickle data which will execute arbitrary code during unpickling (See https://github.com/pytorch/pytorch/blob/main/SECURITY.md#untrusted-models for more details). In a future release, the default value for `weights_only` will be flipped to `True`. This limits the functions that could be executed during unpickling. Arbitrary objects will no longer be allowed to be loaded via this mode unless they are explicitly allowlisted by the user via `torch.serialization.add_safe_globals`. We recommend you start setting `weights_only=True` for any use case where you don't have full control of the loaded file. Please open an issue on GitHub for any issues related to this experimental feature.\n",
            "  self.policy_net.load_state_dict(torch.load(model_path, map_location=self.device))\n",
            "INFO:Logger:Evaluation Episode 1: Total Reward = -13.92 | Reached Goal False | Closest Point = 24.35 | Furthest Point = 39.33\n",
            "INFO:Logger:Evaluation Episode 2: Total Reward = 4.08 | Reached Goal False | Closest Point = 4.24 | Furthest Point = 14.18\n",
            "INFO:Logger:Evaluation Episode 3: Total Reward = 16.79 | Reached Goal False | Closest Point = 12.37 | Furthest Point = 28.86\n",
            "INFO:Logger:Evaluation Episode 4: Total Reward = 8.43 | Reached Goal False | Closest Point = 16.03 | Furthest Point = 24.86\n",
            "INFO:Logger:Evaluation Episode 5: Total Reward = 10.01 | Reached Goal False | Closest Point = 13.49 | Furthest Point = 28.48\n",
            "INFO:Logger:Evaluation Episode 6: Total Reward = 11.90 | Reached Goal False | Closest Point = 8.19 | Furthest Point = 20.22\n",
            "INFO:Logger:Evaluation Episode 7: Total Reward = -6.39 | Reached Goal False | Closest Point = 19.03 | Furthest Point = 28.34\n",
            "INFO:Logger:Evaluation Episode 8: Total Reward = 7.38 | Reached Goal False | Closest Point = 9.00 | Furthest Point = 16.88\n",
            "INFO:Logger:Evaluation Episode 9: Total Reward = 18.00 | Reached Goal False | Closest Point = 4.47 | Furthest Point = 21.54\n",
            "INFO:Logger:Evaluation Episode 10: Total Reward = 16.99 | Reached Goal False | Closest Point = 4.12 | Furthest Point = 20.25\n",
            "INFO:Logger:===== Evaluation Summary =====\n",
            "INFO:Logger:Average Reward: 7.33\n",
            "INFO:Logger:Success Rate: 0.00%\n",
            "INFO:Logger:Average Closest Distance: 11.53\n",
            "INFO:Logger:Average Furthest Distance: 24.29\n"
          ]
        }
      ]
    }
  ],
  "metadata": {
    "kernelspec": {
      "display_name": "Python 3",
      "name": "python3"
    },
    "language_info": {
      "codemirror_mode": {
        "name": "ipython",
        "version": 3
      },
      "file_extension": ".py",
      "mimetype": "text/x-python",
      "name": "python",
      "nbconvert_exporter": "python",
      "pygments_lexer": "ipython3",
      "version": "3.8"
    },
    "colab": {
      "provenance": [],
      "gpuType": "T4"
    },
    "accelerator": "GPU"
  },
  "nbformat": 4,
  "nbformat_minor": 0
}