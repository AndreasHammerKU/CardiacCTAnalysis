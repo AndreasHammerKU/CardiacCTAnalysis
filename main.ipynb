{
  "cells": [
    {
      "cell_type": "markdown",
      "source": [
        "Import"
      ],
      "metadata": {
        "id": "6RQrmsSvQSPm"
      }
    },
    {
      "cell_type": "code",
      "execution_count": 1,
      "metadata": {
        "id": "n2SDSNvHQBqh",
        "outputId": "d0641e28-2675-46d7-b9fe-eff5af41ef87",
        "colab": {
          "base_uri": "https://localhost:8080/"
        }
      },
      "outputs": [
        {
          "output_type": "stream",
          "name": "stdout",
          "text": [
            "Cloning into 'CardiacCTAnalysis'...\n",
            "remote: Enumerating objects: 263, done.\u001b[K\n",
            "remote: Counting objects: 100% (40/40), done.\u001b[K\n",
            "remote: Compressing objects: 100% (34/34), done.\u001b[K\n",
            "remote: Total 263 (delta 9), reused 15 (delta 6), pack-reused 223 (from 1)\u001b[K\n",
            "Receiving objects: 100% (263/263), 1.66 MiB | 4.45 MiB/s, done.\n",
            "Resolving deltas: 100% (135/135), done.\n",
            "/content/CardiacCTAnalysis\n"
          ]
        }
      ],
      "source": [
        "!git clone https://github.com/AndreasHammerKU/CardiacCTAnalysis.git\n",
        "%cd CardiacCTAnalysis"
      ]
    },
    {
      "cell_type": "markdown",
      "source": [
        "Imports from Github Repository"
      ],
      "metadata": {
        "id": "LJKnX8kpFqeE"
      }
    },
    {
      "cell_type": "code",
      "source": [
        "!pip install dash\n",
        "import numpy as np\n",
        "\n",
        "# Custom Imports\n",
        "import utils.io_utils as io\n",
        "import utils.logger as logs\n",
        "from baseline.BaseEnvironment import MedicalImageEnvironment\n",
        "from utils.io_utils import DataLoader\n",
        "from baseline.BaseAgent import DQNAgent\n",
        "\n",
        "# Mount Drive\n",
        "from google.colab import drive\n",
        "drive.mount('/content/drive')\n",
        "\n",
        "dataset_folder = '/content/drive/MyDrive/Data'"
      ],
      "metadata": {
        "id": "fSdqbyhyQJh9",
        "outputId": "9c47c264-daf1-4dfa-f215-d6eec855a63d",
        "colab": {
          "base_uri": "https://localhost:8080/",
          "height": 954
        }
      },
      "execution_count": 2,
      "outputs": [
        {
          "output_type": "stream",
          "name": "stdout",
          "text": [
            "Collecting dash\n",
            "  Downloading dash-2.18.2-py3-none-any.whl.metadata (10 kB)\n",
            "Collecting Flask<3.1,>=1.0.4 (from dash)\n",
            "  Downloading flask-3.0.3-py3-none-any.whl.metadata (3.2 kB)\n",
            "Collecting Werkzeug<3.1 (from dash)\n",
            "  Downloading werkzeug-3.0.6-py3-none-any.whl.metadata (3.7 kB)\n",
            "Requirement already satisfied: plotly>=5.0.0 in /usr/local/lib/python3.11/dist-packages (from dash) (5.24.1)\n",
            "Collecting dash-html-components==2.0.0 (from dash)\n",
            "  Downloading dash_html_components-2.0.0-py3-none-any.whl.metadata (3.8 kB)\n",
            "Collecting dash-core-components==2.0.0 (from dash)\n",
            "  Downloading dash_core_components-2.0.0-py3-none-any.whl.metadata (2.9 kB)\n",
            "Collecting dash-table==5.0.0 (from dash)\n",
            "  Downloading dash_table-5.0.0-py3-none-any.whl.metadata (2.4 kB)\n",
            "Requirement already satisfied: importlib-metadata in /usr/local/lib/python3.11/dist-packages (from dash) (8.6.1)\n",
            "Requirement already satisfied: typing-extensions>=4.1.1 in /usr/local/lib/python3.11/dist-packages (from dash) (4.12.2)\n",
            "Requirement already satisfied: requests in /usr/local/lib/python3.11/dist-packages (from dash) (2.32.3)\n",
            "Collecting retrying (from dash)\n",
            "  Downloading retrying-1.3.4-py3-none-any.whl.metadata (6.9 kB)\n",
            "Requirement already satisfied: nest-asyncio in /usr/local/lib/python3.11/dist-packages (from dash) (1.6.0)\n",
            "Requirement already satisfied: setuptools in /usr/local/lib/python3.11/dist-packages (from dash) (75.1.0)\n",
            "Requirement already satisfied: Jinja2>=3.1.2 in /usr/local/lib/python3.11/dist-packages (from Flask<3.1,>=1.0.4->dash) (3.1.5)\n",
            "Requirement already satisfied: itsdangerous>=2.1.2 in /usr/local/lib/python3.11/dist-packages (from Flask<3.1,>=1.0.4->dash) (2.2.0)\n",
            "Requirement already satisfied: click>=8.1.3 in /usr/local/lib/python3.11/dist-packages (from Flask<3.1,>=1.0.4->dash) (8.1.8)\n",
            "Requirement already satisfied: blinker>=1.6.2 in /usr/local/lib/python3.11/dist-packages (from Flask<3.1,>=1.0.4->dash) (1.9.0)\n",
            "Requirement already satisfied: tenacity>=6.2.0 in /usr/local/lib/python3.11/dist-packages (from plotly>=5.0.0->dash) (9.0.0)\n",
            "Requirement already satisfied: packaging in /usr/local/lib/python3.11/dist-packages (from plotly>=5.0.0->dash) (24.2)\n",
            "Requirement already satisfied: MarkupSafe>=2.1.1 in /usr/local/lib/python3.11/dist-packages (from Werkzeug<3.1->dash) (3.0.2)\n",
            "Requirement already satisfied: zipp>=3.20 in /usr/local/lib/python3.11/dist-packages (from importlib-metadata->dash) (3.21.0)\n",
            "Requirement already satisfied: charset-normalizer<4,>=2 in /usr/local/lib/python3.11/dist-packages (from requests->dash) (3.4.1)\n",
            "Requirement already satisfied: idna<4,>=2.5 in /usr/local/lib/python3.11/dist-packages (from requests->dash) (3.10)\n",
            "Requirement already satisfied: urllib3<3,>=1.21.1 in /usr/local/lib/python3.11/dist-packages (from requests->dash) (2.3.0)\n",
            "Requirement already satisfied: certifi>=2017.4.17 in /usr/local/lib/python3.11/dist-packages (from requests->dash) (2025.1.31)\n",
            "Requirement already satisfied: six>=1.7.0 in /usr/local/lib/python3.11/dist-packages (from retrying->dash) (1.17.0)\n",
            "Downloading dash-2.18.2-py3-none-any.whl (7.8 MB)\n",
            "\u001b[2K   \u001b[90m━━━━━━━━━━━━━━━━━━━━━━━━━━━━━━━━━━━━━━━━\u001b[0m \u001b[32m7.8/7.8 MB\u001b[0m \u001b[31m69.9 MB/s\u001b[0m eta \u001b[36m0:00:00\u001b[0m\n",
            "\u001b[?25hDownloading dash_core_components-2.0.0-py3-none-any.whl (3.8 kB)\n",
            "Downloading dash_html_components-2.0.0-py3-none-any.whl (4.1 kB)\n",
            "Downloading dash_table-5.0.0-py3-none-any.whl (3.9 kB)\n",
            "Downloading flask-3.0.3-py3-none-any.whl (101 kB)\n",
            "\u001b[2K   \u001b[90m━━━━━━━━━━━━━━━━━━━━━━━━━━━━━━━━━━━━━━━━\u001b[0m \u001b[32m101.7/101.7 kB\u001b[0m \u001b[31m8.3 MB/s\u001b[0m eta \u001b[36m0:00:00\u001b[0m\n",
            "\u001b[?25hDownloading werkzeug-3.0.6-py3-none-any.whl (227 kB)\n",
            "\u001b[2K   \u001b[90m━━━━━━━━━━━━━━━━━━━━━━━━━━━━━━━━━━━━━━━━\u001b[0m \u001b[32m228.0/228.0 kB\u001b[0m \u001b[31m18.9 MB/s\u001b[0m eta \u001b[36m0:00:00\u001b[0m\n",
            "\u001b[?25hDownloading retrying-1.3.4-py3-none-any.whl (11 kB)\n",
            "Installing collected packages: dash-table, dash-html-components, dash-core-components, Werkzeug, retrying, Flask, dash\n",
            "  Attempting uninstall: Werkzeug\n",
            "    Found existing installation: Werkzeug 3.1.3\n",
            "    Uninstalling Werkzeug-3.1.3:\n",
            "      Successfully uninstalled Werkzeug-3.1.3\n",
            "  Attempting uninstall: Flask\n",
            "    Found existing installation: Flask 3.1.0\n",
            "    Uninstalling Flask-3.1.0:\n",
            "      Successfully uninstalled Flask-3.1.0\n",
            "Successfully installed Flask-3.0.3 Werkzeug-3.0.6 dash-2.18.2 dash-core-components-2.0.0 dash-html-components-2.0.0 dash-table-5.0.0 retrying-1.3.4\n",
            "Mounted at /content/drive\n"
          ]
        }
      ]
    },
    {
      "cell_type": "markdown",
      "source": [
        "Hyperparameters"
      ],
      "metadata": {
        "id": "cxBDHDMiF2i1"
      }
    },
    {
      "cell_type": "code",
      "source": [
        "MAX_STEPS = 500\n",
        "EPISODES = 40\n",
        "IMAGE_INTERVAL = 2\n",
        "AGENTS = 6\n",
        "N_SAMPLE_POINTS = 5\n",
        "EVALUATION_STEPS = 30\n",
        "DECAY = 200 # EPSILON = MIN_EPS - (MAX_EPS - MIN_EPS) * e^(-1 * current_step / decay)"
      ],
      "metadata": {
        "id": "1w1a_ccfVjkb"
      },
      "execution_count": 6,
      "outputs": []
    },
    {
      "cell_type": "code",
      "source": [
        "debug = False\n",
        "\n",
        "# Colab not enough RAM\n",
        "preload_images = False\n",
        "logger = logs.setup_logger(debug)\n",
        "\n",
        "dataLoader = DataLoader(dataset_folder)"
      ],
      "metadata": {
        "id": "0RQItLAVVltN"
      },
      "execution_count": 7,
      "outputs": []
    },
    {
      "cell_type": "markdown",
      "source": [
        "Training"
      ],
      "metadata": {
        "id": "sZ2Tp0BAGWQl"
      }
    },
    {
      "cell_type": "code",
      "source": [
        "# Initialize training environment\n",
        "train_env = MedicalImageEnvironment(logger=logger,\n",
        "                              dataLoader=dataLoader,\n",
        "                              image_list=['n1', 'n2', 'n3', 'n4', 'n5', 'n6', 'n7', 'n8', 'n9', 'n10', 'n11', 'n12', 'n13', 'n14', 'n15', 'n16', 'n17', 'n18', 'n19', 'n20', 'n21', 'n22', 'n23', 'n24', 'n25', 'n26', 'n27', 'n28', 'n29', 'n30'],\n",
        "                              agents=AGENTS,\n",
        "                              n_sample_points=N_SAMPLE_POINTS,\n",
        "                              preload_images=preload_images)\n",
        "eval_env = MedicalImageEnvironment(logger=logger,\n",
        "                              task=\"eval\",\n",
        "                              dataLoader=dataLoader,\n",
        "                              image_list=['n31', 'n32', 'n33', 'n34', 'n35', 'n36', 'n37', 'n38', 'n39', 'n40'],\n",
        "                              agents=AGENTS,\n",
        "                              n_sample_points=N_SAMPLE_POINTS)\n",
        "agent = DQNAgent(train_environment=train_env,\n",
        "                 eval_environment=eval_env,\n",
        "                 task=\"train\",\n",
        "                 logger=logger,\n",
        "                 state_dim=train_env.state_size,\n",
        "                 action_dim=train_env.n_actions,\n",
        "                 agents=AGENTS,\n",
        "                 max_steps=MAX_STEPS,\n",
        "                 episodes=EPISODES,\n",
        "                 decay=DECAY,\n",
        "                 image_interval=IMAGE_INTERVAL,\n",
        "                 evaluation_steps=EVALUATION_STEPS)\n",
        "\n",
        "agent.train_dqn()"
      ],
      "metadata": {
        "id": "pmwL5j9cWDfy",
        "outputId": "949c7c2b-1006-4063-e4e8-80002314d2e1",
        "colab": {
          "base_uri": "https://localhost:8080/"
        }
      },
      "execution_count": 8,
      "outputs": [
        {
          "output_type": "stream",
          "name": "stderr",
          "text": [
            "INFO:Logger:Episode 1: Total Reward = -37.18 | Final Avg Distance 67.05 | All Reached Goal False | Avg Closest Point = 15.57 | Avg Furthest Point = 68.24\n",
            "INFO:Logger:Episode 2: Total Reward = -13.37 | Final Avg Distance 43.25 | All Reached Goal False | Avg Closest Point = 7.41 | Avg Furthest Point = 56.27\n",
            "INFO:Logger:Episode 3: Total Reward = -48.58 | Final Avg Distance 75.42 | All Reached Goal False | Avg Closest Point = 7.20 | Avg Furthest Point = 82.29\n",
            "INFO:Logger:Episode 4: Total Reward = 11.27 | Final Avg Distance 15.57 | All Reached Goal False | Avg Closest Point = 4.70 | Avg Furthest Point = 36.54\n",
            "INFO:Logger:Episode 5: Total Reward = 9.36 | Final Avg Distance 20.52 | All Reached Goal False | Avg Closest Point = 5.43 | Avg Furthest Point = 34.11\n",
            "INFO:Logger:Episode 6: Total Reward = 25.52 | Final Avg Distance 4.36 | All Reached Goal False | Avg Closest Point = 0.50 | Avg Furthest Point = 32.13\n",
            "INFO:Logger:Episode 7: Total Reward = 1.26 | Final Avg Distance 26.76 | All Reached Goal False | Avg Closest Point = 3.31 | Avg Furthest Point = 39.91\n",
            "INFO:Logger:Episode 8: Total Reward = 25.97 | Final Avg Distance 2.05 | All Reached Goal False | Avg Closest Point = 0.00 | Avg Furthest Point = 30.57\n",
            "INFO:Logger:Episode 9: Total Reward = 24.16 | Final Avg Distance 3.50 | All Reached Goal False | Avg Closest Point = 0.33 | Avg Furthest Point = 29.89\n",
            "INFO:Logger:Episode 10: Total Reward = 26.02 | Final Avg Distance 1.64 | All Reached Goal False | Avg Closest Point = 0.00 | Avg Furthest Point = 29.50\n",
            "INFO:Logger:===== Validation Run =====\n",
            "INFO:Logger:Evaluation Episode 1: Total Reward = 16.04 | Final Average Distance = 11.62 | Reached Goal [False False False False False False] | Closest Point = [ 3.60555128  5.09901951  6.08276253 17.91647287 14.2126704  15.8113883 ] | Furthest Point = [21.1896201  25.51470164 22.20360331 34.07345007 29.49576241 28.24889378]\n",
            "INFO:Logger:Evaluation Episode 2: Total Reward = 8.21 | Final Average Distance = 14.46 | Reached Goal [False False False False False False] | Closest Point = [15.42724862  1.          9.         11.5758369  21.58703314  7.87400787] | Furthest Point = [22.93468988 21.02379604 16.64331698 28.80972058 35.56683849 22.737634  ]\n",
            "INFO:Logger:Evaluation Episode 3: Total Reward = 10.90 | Final Average Distance = 18.83 | Reached Goal [False False False False False False] | Closest Point = [ 8.06225775 19.8242276  20.02498439 19.31320792 18.02775638 25.8069758 ] | Furthest Point = [24.37211521 41.53311931 27.22131518 25.07987241 34.14674216 27.01851217]\n",
            "INFO:Logger:Evaluation Episode 4: Total Reward = 10.54 | Final Average Distance = 15.49 | Reached Goal [False False False False False False] | Closest Point = [ 9.2736185   7.07106781 21.9544984   9.89949494 13.92838828 20.83266666] | Furthest Point = [23.62202362 24.06241883 24.93992783 26.79552201 26.64582519 28.46049894]\n",
            "INFO:Logger:Evaluation Episode 5: Total Reward = 8.13 | Final Average Distance = 14.25 | Reached Goal [False False False False False False] | Closest Point = [ 2.82842712 11.         12.72792206 10.34408043 11.5758369  19.6977156 ] | Furthest Point = [18.70828693 21.9544984  19.94993734 26.55183609 23.62202362 22.09072203]\n",
            "INFO:Logger:Evaluation Episode 6: Total Reward = 2.25 | Final Average Distance = 24.84 | Reached Goal [False False False False False False] | Closest Point = [15.06651917 12.20655562 12.80624847 18.24828759 34.84250278 24.2693222 ] | Furthest Point = [28.17800561 26.03843313 23.74868417 26.64582519 50.57667447 36.67424164]\n",
            "INFO:Logger:Evaluation Episode 7: Total Reward = 11.76 | Final Average Distance = 14.10 | Reached Goal [False False False False False False] | Closest Point = [11.74734012  2.82842712 10.         15.62049935  6.32455532 24.16609195] | Furthest Point = [24.06241883 22.91287847 18.02775638 32.64965543 25.05992817 27.27636339]\n",
            "INFO:Logger:Evaluation Episode 8: Total Reward = 7.73 | Final Average Distance = 22.99 | Reached Goal [False False False False False False] | Closest Point = [24.75883681 11.66190379 26.19160171 15.16575089 27.74887385 23.        ] | Furthest Point = [30.38091506 31.04834939 35.60898763 30.82207001 35.74912586 29.54657341]\n",
            "INFO:Logger:Evaluation Episode 9: Total Reward = 7.98 | Final Average Distance = 28.15 | Reached Goal [False False False False False False] | Closest Point = [ 8.71779789 36.19392214 13.37908816 22.09072203 40.26164428 27.96426291] | Furthest Point = [21.9317122  52.16320542 37.2424489  27.36786437 49.88987873 42.44997055]\n",
            "INFO:Logger:Evaluation Episode 10: Total Reward = 11.69 | Final Average Distance = 16.50 | Reached Goal [False False False False False False] | Closest Point = [ 2.         18.38477631 14.86606875 16.58312395 15.         21.47091055] | Furthest Point = [16.03121954 28.67054237 28.05352028 30.38091506 39.7617907  24.12467616]\n",
            "INFO:Logger:===== Evaluation Summary =====\n",
            "INFO:Logger:Average Closest Distance Across Agents: 14.72\n",
            "INFO:Logger:Average Furthest Distance Across Agents: 27.84\n",
            "INFO:Logger:Episode 11: Total Reward = 27.54 | Final Avg Distance 1.88 | All Reached Goal False | Avg Closest Point = 1.04 | Avg Furthest Point = 33.71\n",
            "INFO:Logger:Episode 12: Total Reward = 27.85 | Final Avg Distance 1.58 | All Reached Goal False | Avg Closest Point = 0.00 | Avg Furthest Point = 30.31\n",
            "INFO:Logger:Episode 13: Total Reward = 25.71 | Final Avg Distance 1.52 | All Reached Goal False | Avg Closest Point = 0.00 | Avg Furthest Point = 29.78\n",
            "INFO:Logger:Episode 14: Total Reward = 25.46 | Final Avg Distance 1.77 | All Reached Goal False | Avg Closest Point = 0.00 | Avg Furthest Point = 30.15\n",
            "INFO:Logger:Episode 15: Total Reward = -0.83 | Final Avg Distance 22.47 | All Reached Goal False | Avg Closest Point = 1.62 | Avg Furthest Point = 35.02\n",
            "INFO:Logger:Episode 16: Total Reward = 20.37 | Final Avg Distance 1.28 | All Reached Goal False | Avg Closest Point = 0.00 | Avg Furthest Point = 23.56\n",
            "INFO:Logger:Episode 17: Total Reward = 25.56 | Final Avg Distance 1.67 | All Reached Goal False | Avg Closest Point = 0.00 | Avg Furthest Point = 28.87\n",
            "INFO:Logger:Episode 18: Total Reward = 26.09 | Final Avg Distance 1.14 | All Reached Goal False | Avg Closest Point = 0.00 | Avg Furthest Point = 29.63\n",
            "INFO:Logger:Episode 19: Total Reward = 28.82 | Final Avg Distance 1.30 | All Reached Goal False | Avg Closest Point = 0.00 | Avg Furthest Point = 33.09\n",
            "INFO:Logger:Episode 20: Total Reward = 28.68 | Final Avg Distance 1.45 | All Reached Goal False | Avg Closest Point = 0.00 | Avg Furthest Point = 32.65\n",
            "INFO:Logger:===== Validation Run =====\n",
            "INFO:Logger:Evaluation Episode 1: Total Reward = 16.15 | Final Average Distance = 11.51 | Reached Goal [False False False False False False] | Closest Point = [ 3.60555128  3.31662479  7.21110255 17.91647287 10.19803903 17.11724277] | Furthest Point = [22.29349681 25.51470164 22.20360331 34.07345007 29.89983278 28.24889378]\n",
            "INFO:Logger:Evaluation Episode 2: Total Reward = 7.89 | Final Average Distance = 14.79 | Reached Goal [False False False False False False] | Closest Point = [ 9.05538514  1.          9.         17.02938637 11.04536102 13.89244399] | Furthest Point = [23.79075451 21.02379604 21.02379604 28.80972058 21.58703314 22.737634  ]\n",
            "INFO:Logger:Evaluation Episode 3: Total Reward = 17.00 | Final Average Distance = 12.74 | Reached Goal [False False False False False False] | Closest Point = [ 2.44948974 15.          5.38516481 15.42724862 17.49285568 20.19900988] | Furthest Point = [24.12467616 41.53311931 25.19920634 25.07987241 33.01514804 25.70992026]\n",
            "INFO:Logger:Evaluation Episode 4: Total Reward = 10.49 | Final Average Distance = 15.54 | Reached Goal [False False False False False False] | Closest Point = [ 6.          7.07106781 22.84731932 12.40967365 10.81665383 20.        ] | Furthest Point = [24.77902339 24.06241883 30.3644529  26.79552201 26.64582519 25.61249695]\n",
            "INFO:Logger:Evaluation Episode 5: Total Reward = 6.47 | Final Average Distance = 15.90 | Reached Goal [False False False False False False] | Closest Point = [ 4.58257569 11.         14.2126704  20.32240143 14.76482306  9.43398113] | Furthest Point = [19.39071943 21.9544984  21.40093456 26.55183609 23.43074903 19.4422221 ]\n",
            "INFO:Logger:Evaluation Episode 6: Total Reward = 8.30 | Final Average Distance = 18.78 | Reached Goal [False False False False False False] | Closest Point = [13.03840481 12.20655562 12.80624847 26.17250466 14.2126704  11.87434209] | Furthest Point = [20.63976744 26.03843313 23.74868417 31.20897307 39.62322551 25.3968502 ]\n",
            "INFO:Logger:Evaluation Episode 7: Total Reward = 11.82 | Final Average Distance = 14.04 | Reached Goal [False False False False False False] | Closest Point = [ 8.06225775  7.07106781 10.         21.54065923  7.34846923 15.26433752] | Furthest Point = [25.3179778  22.91287847 18.02775638 32.64965543 25.05992817 27.27636339]\n",
            "INFO:Logger:Evaluation Episode 8: Total Reward = 15.08 | Final Average Distance = 15.64 | Reached Goal [False False False False False False] | Closest Point = [ 9.21954446 13.41640786  7.81024968 19.13112647 18.38477631 21.09502311] | Furthest Point = [28.86173938 31.04834939 26.19160171 30.82207001 36.02776707 27.73084925]\n",
            "INFO:Logger:Evaluation Episode 9: Total Reward = 15.54 | Final Average Distance = 20.58 | Reached Goal [False False False False False False] | Closest Point = [ 6.         22.44994432 24.51530134 19.31320792 25.19920634 19.33907961] | Furthest Point = [21.84032967 51.02940329 37.2424489  27.09243437 49.34571917 27.58622845]\n",
            "INFO:Logger:Evaluation Episode 10: Total Reward = 12.80 | Final Average Distance = 15.39 | Reached Goal [False False False False False False] | Closest Point = [ 3.46410162 18.49324201 12.72792206 14.24780685 22.737634    9.21954446] | Furthest Point = [16.15549442 27.87471973 28.05352028 30.38091506 39.7617907  22.89104628]\n",
            "INFO:Logger:===== Evaluation Summary =====\n",
            "INFO:Logger:Average Closest Distance Across Agents: 13.48\n",
            "INFO:Logger:Average Furthest Distance Across Agents: 27.52\n",
            "INFO:Logger:Episode 21: Total Reward = 25.89 | Final Avg Distance 1.34 | All Reached Goal False | Avg Closest Point = 0.00 | Avg Furthest Point = 29.93\n",
            "INFO:Logger:Episode 22: Total Reward = 25.97 | Final Avg Distance 1.26 | All Reached Goal False | Avg Closest Point = 0.00 | Avg Furthest Point = 29.61\n",
            "INFO:Logger:Episode 23: Total Reward = 26.56 | Final Avg Distance 0.67 | All Reached Goal False | Avg Closest Point = 0.00 | Avg Furthest Point = 28.60\n",
            "INFO:Logger:Episode 24: Total Reward = 26.33 | Final Avg Distance 0.90 | All Reached Goal False | Avg Closest Point = 0.00 | Avg Furthest Point = 30.24\n",
            "INFO:Logger:Episode 25: Total Reward = -6.37 | Final Avg Distance 30.18 | All Reached Goal False | Avg Closest Point = 0.83 | Avg Furthest Point = 44.05\n",
            "INFO:Logger:Episode 26: Total Reward = 22.14 | Final Avg Distance 1.67 | All Reached Goal False | Avg Closest Point = 0.00 | Avg Furthest Point = 27.65\n",
            "INFO:Logger:Episode 27: Total Reward = -0.02 | Final Avg Distance 23.48 | All Reached Goal False | Avg Closest Point = 1.41 | Avg Furthest Point = 36.62\n",
            "INFO:Logger:Episode 28: Total Reward = 2.10 | Final Avg Distance 21.36 | All Reached Goal False | Avg Closest Point = 0.33 | Avg Furthest Point = 35.87\n",
            "INFO:Logger:Episode 29: Total Reward = 28.07 | Final Avg Distance 2.06 | All Reached Goal False | Avg Closest Point = 0.33 | Avg Furthest Point = 32.38\n",
            "INFO:Logger:Episode 30: Total Reward = 28.42 | Final Avg Distance 1.71 | All Reached Goal False | Avg Closest Point = 0.00 | Avg Furthest Point = 32.71\n",
            "INFO:Logger:===== Validation Run =====\n",
            "INFO:Logger:Evaluation Episode 1: Total Reward = 16.94 | Final Average Distance = 10.73 | Reached Goal [False False False False False False] | Closest Point = [ 9.43398113  2.23606798  5.         19.20937271 10.09950494 10.29563014] | Furthest Point = [21.1896201  25.51470164 22.91287847 34.07345007 29.49576241 28.24889378]\n",
            "INFO:Logger:Evaluation Episode 2: Total Reward = 9.67 | Final Average Distance = 13.00 | Reached Goal [False False False False False False] | Closest Point = [ 4.          1.          9.         12.80624847 15.06651917 16.82260384] | Furthest Point = [22.93468988 21.02379604 17.94435844 28.80972058 22.13594362 27.82085549]\n",
            "INFO:Logger:Evaluation Episode 3: Total Reward = 13.69 | Final Average Distance = 16.04 | Reached Goal [False False False False False False] | Closest Point = [ 7.28010989 15.90597372 11.40175425 19.6977156  16.55294536 14.03566885] | Furthest Point = [24.12467616 41.53311931 26.32489316 26.01922366 33.01514804 26.28687886]\n",
            "INFO:Logger:Evaluation Episode 4: Total Reward = 11.00 | Final Average Distance = 15.03 | Reached Goal [False False False False False False] | Closest Point = [ 6.4807407   7.07106781 22.84731932 10.29563014 13.60147051 16.43167673] | Furthest Point = [23.62202362 24.06241883 30.3644529  26.79552201 26.98147513 25.61249695]\n",
            "INFO:Logger:Evaluation Episode 5: Total Reward = 7.63 | Final Average Distance = 14.75 | Reached Goal [False False False False False False] | Closest Point = [ 6.70820393 11.         14.86606875 21.1896201   7.68114575  6.32455532] | Furthest Point = [18.70828693 21.9544984  21.11871208 26.55183609 23.10844002 19.4422221 ]\n",
            "INFO:Logger:Evaluation Episode 6: Total Reward = 9.27 | Final Average Distance = 17.81 | Reached Goal [False False False False False False] | Closest Point = [13.15294644 12.20655562 12.80624847 20.22374842 20.63976744 11.18033989] | Furthest Point = [19.94993734 26.03843313 23.74868417 26.64582519 39.62322551 22.91287847]\n",
            "INFO:Logger:Evaluation Episode 7: Total Reward = 11.38 | Final Average Distance = 14.48 | Reached Goal [False False False False False False] | Closest Point = [10.04987562  5.         18.02775638 21.1896201   8.71779789 10.        ] | Furthest Point = [25.3179778  22.91287847 26.17250466 32.64965543 25.88435821 27.27636339]\n",
            "INFO:Logger:Evaluation Episode 8: Total Reward = 10.70 | Final Average Distance = 20.02 | Reached Goal [False False False False False False] | Closest Point = [14.31782106 19.10497317  7.         30.23243292 20.46948949 16.30950643] | Furthest Point = [28.86173938 31.04834939 26.19160171 38.60051813 36.02776707 27.73084925]\n",
            "INFO:Logger:Evaluation Episode 9: Total Reward = 15.79 | Final Average Distance = 20.33 | Reached Goal [False False False False False False] | Closest Point = [ 6.08276253 22.44994432 13.74772708 20.80865205 35.14256678 17.02938637] | Furthest Point = [20.90454496 51.02940329 37.2424489  27.09243437 48.83646179 26.94438717]\n",
            "INFO:Logger:Evaluation Episode 10: Total Reward = 6.19 | Final Average Distance = 22.00 | Reached Goal [False False False False False False] | Closest Point = [ 1.41421356 17.8325545  27.51363298 20.24845673 33.48133809  7.34846923] | Furthest Point = [15.06651917 27.87471973 36.12478374 30.38091506 41.73727351 22.89104628]\n",
            "INFO:Logger:===== Evaluation Summary =====\n",
            "INFO:Logger:Average Closest Distance Across Agents: 17.97\n",
            "INFO:Logger:Average Furthest Distance Across Agents: 29.01\n",
            "INFO:Logger:Episode 31: Total Reward = 26.14 | Final Avg Distance 1.52 | All Reached Goal False | Avg Closest Point = 0.00 | Avg Furthest Point = 28.45\n",
            "INFO:Logger:Episode 32: Total Reward = 26.32 | Final Avg Distance 1.35 | All Reached Goal False | Avg Closest Point = 0.00 | Avg Furthest Point = 29.80\n",
            "INFO:Logger:Episode 33: Total Reward = 26.49 | Final Avg Distance 2.93 | All Reached Goal False | Avg Closest Point = 0.37 | Avg Furthest Point = 33.45\n",
            "INFO:Logger:Episode 34: Total Reward = 27.85 | Final Avg Distance 1.58 | All Reached Goal False | Avg Closest Point = 0.00 | Avg Furthest Point = 30.90\n",
            "INFO:Logger:Episode 35: Total Reward = 26.79 | Final Avg Distance 0.87 | All Reached Goal False | Avg Closest Point = 0.00 | Avg Furthest Point = 29.57\n",
            "INFO:Logger:Episode 36: Total Reward = 25.94 | Final Avg Distance 1.72 | All Reached Goal False | Avg Closest Point = 0.00 | Avg Furthest Point = 30.79\n",
            "INFO:Logger:Episode 37: Total Reward = -10.77 | Final Avg Distance 44.44 | All Reached Goal False | Avg Closest Point = 1.58 | Avg Furthest Point = 55.57\n",
            "INFO:Logger:Episode 38: Total Reward = 30.52 | Final Avg Distance 3.16 | All Reached Goal False | Avg Closest Point = 0.00 | Avg Furthest Point = 35.31\n",
            "INFO:Logger:Episode 39: Total Reward = -2.83 | Final Avg Distance 25.24 | All Reached Goal False | Avg Closest Point = 2.34 | Avg Furthest Point = 37.28\n",
            "INFO:Logger:Episode 40: Total Reward = 21.13 | Final Avg Distance 1.28 | All Reached Goal False | Avg Closest Point = 0.00 | Avg Furthest Point = 24.02\n",
            "INFO:Logger:===== Validation Run =====\n",
            "INFO:Logger:Evaluation Episode 1: Total Reward = 15.86 | Final Average Distance = 11.80 | Reached Goal [False False False False False False] | Closest Point = [ 2.23606798  5.09901951  7.21110255 21.61018278 15.65247584  8.36660027] | Furthest Point = [21.1896201  25.51470164 22.20360331 34.07345007 29.49576241 28.24889378]\n",
            "INFO:Logger:Evaluation Episode 2: Total Reward = 7.67 | Final Average Distance = 15.01 | Reached Goal [False False False False False False] | Closest Point = [14.2126704   1.          9.         16.24807681 15.5241747   8.06225775] | Furthest Point = [24.10394159 21.02379604 21.02379604 28.80972058 21.58703314 22.737634  ]\n",
            "INFO:Logger:Evaluation Episode 3: Total Reward = 14.75 | Final Average Distance = 14.99 | Reached Goal [False False False False False False] | Closest Point = [ 7.61577311 15.         10.29563014 18.02775638 18.02775638 14.17744688] | Furthest Point = [23.28089345 41.53311931 25.19920634 25.07987241 32.46536616 25.70992026]\n",
            "INFO:Logger:Evaluation Episode 4: Total Reward = 9.34 | Final Average Distance = 16.70 | Reached Goal [False False False False False False] | Closest Point = [ 7.07106781  7.07106781 22.84731932 12.64911064 13.45362405 20.        ] | Furthest Point = [23.62202362 24.06241883 30.3644529  27.09243437 26.64582519 25.61249695]\n",
            "INFO:Logger:Evaluation Episode 5: Total Reward = 5.49 | Final Average Distance = 16.88 | Reached Goal [False False False False False False] | Closest Point = [ 7.81024968 11.         14.2126704  23.28089345  7.07106781  8.94427191] | Furthest Point = [18.70828693 21.9544984  21.40093456 26.55183609 23.10844002 19.4422221 ]\n",
            "INFO:Logger:Evaluation Episode 6: Total Reward = 12.47 | Final Average Distance = 14.62 | Reached Goal [False False False False False False] | Closest Point = [13.49073756 16.43167673 13.60147051 23.83275058 10.67707825  2.23606798] | Furthest Point = [19.94993734 27.33130074 24.91987159 28.14249456 38.65229618 22.91287847]\n",
            "INFO:Logger:Evaluation Episode 7: Total Reward = 10.66 | Final Average Distance = 15.20 | Reached Goal [False False False False False False] | Closest Point = [ 3.74165739  6.40312424  8.         23.36664289  7.21110255 25.19920634] | Furthest Point = [24.06241883 22.91287847 18.02775638 32.64965543 25.05992817 27.45906044]\n",
            "INFO:Logger:Evaluation Episode 8: Total Reward = 16.57 | Final Average Distance = 14.15 | Reached Goal [False False False False False False] | Closest Point = [ 6.70820393 13.41640786  7.81024968 18.05547009 23.43074903 13.        ] | Furthest Point = [27.76688675 31.04834939 26.19160171 30.82207001 35.74912586 27.73084925]\n",
            "INFO:Logger:Evaluation Episode 9: Total Reward = 18.82 | Final Average Distance = 17.31 | Reached Goal [False False False False False False] | Closest Point = [ 6.32455532 22.44994432 21.79449472 18.05547009 24.71841419  6.08276253] | Furthest Point = [20.90454496 51.02940329 39.52214569 27.09243437 48.05205511 26.94438717]\n",
            "INFO:Logger:Evaluation Episode 10: Total Reward = 9.49 | Final Average Distance = 18.69 | Reached Goal [False False False False False False] | Closest Point = [ 1.41421356 17.52141547 25.98076211 19.41648784 15.58845727 18.78829423] | Furthest Point = [15.06651917 27.87471973 28.39013913 30.38091506 39.7617907  22.89104628]\n",
            "INFO:Logger:===== Evaluation Summary =====\n",
            "INFO:Logger:Average Closest Distance Across Agents: 16.45\n",
            "INFO:Logger:Average Furthest Distance Across Agents: 27.39\n"
          ]
        }
      ]
    },
    {
      "cell_type": "code",
      "source": [
        "train_env.visualize_current_state()"
      ],
      "metadata": {
        "id": "Sck0XbdLPKYq"
      },
      "execution_count": null,
      "outputs": []
    },
    {
      "cell_type": "code",
      "source": [
        "eval_env.visualize_current_state()"
      ],
      "metadata": {
        "id": "HVFfYELePDsh"
      },
      "execution_count": null,
      "outputs": []
    },
    {
      "cell_type": "markdown",
      "source": [
        "Evaluate"
      ],
      "metadata": {
        "id": "GOVdGVnNHDyQ"
      }
    },
    {
      "cell_type": "code",
      "source": [
        "test_env = MedicalImageEnvironment(logger=logger,\n",
        "                              task=\"test\",\n",
        "                              dataLoader=dataLoader,\n",
        "                              image_list=['n41', 'n42', 'n43', 'n44', 'n45', 'n46', 'n47', 'n48', 'n49', 'n50'],\n",
        "                              agents=AGENTS,\n",
        "                              n_sample_points=N_SAMPLE_POINTS)\n",
        "agent = DQNAgent(train_environment=train_env,\n",
        "                 eval_environment=eval_env,\n",
        "                 test_environment=test_env,\n",
        "                 task=\"test\",\n",
        "                 logger=logger,\n",
        "                 state_dim=test_env.state_size,\n",
        "                 action_dim=test_env.n_actions,\n",
        "                 agents=AGENTS,\n",
        "                 model_path=\"latest-model.pt\",\n",
        "                 max_steps=MAX_STEPS,\n",
        "                 episodes=EPISODES,\n",
        "                 evaluation_steps=25\n",
        "                 )\n",
        "\n",
        "agent.test_dqn()"
      ],
      "metadata": {
        "id": "5dpulPtxVpIa"
      },
      "execution_count": null,
      "outputs": []
    },
    {
      "cell_type": "code",
      "source": [
        "test_env.visualize_current_state()"
      ],
      "metadata": {
        "id": "PEktgauIeDi4"
      },
      "execution_count": null,
      "outputs": []
    }
  ],
  "metadata": {
    "kernelspec": {
      "display_name": "Python 3",
      "name": "python3"
    },
    "language_info": {
      "codemirror_mode": {
        "name": "ipython",
        "version": 3
      },
      "file_extension": ".py",
      "mimetype": "text/x-python",
      "name": "python",
      "nbconvert_exporter": "python",
      "pygments_lexer": "ipython3",
      "version": "3.8"
    },
    "colab": {
      "provenance": [],
      "gpuType": "T4"
    },
    "accelerator": "GPU"
  },
  "nbformat": 4,
  "nbformat_minor": 0
}