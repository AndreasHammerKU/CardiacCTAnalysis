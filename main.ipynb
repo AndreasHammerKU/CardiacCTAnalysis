{
  "cells": [
    {
      "cell_type": "markdown",
      "source": [
        "Import"
      ],
      "metadata": {
        "id": "6RQrmsSvQSPm"
      }
    },
    {
      "cell_type": "code",
      "execution_count": 1,
      "metadata": {
        "id": "n2SDSNvHQBqh",
        "outputId": "2b5bcad5-c048-44fd-e828-ba21dc13c25f",
        "colab": {
          "base_uri": "https://localhost:8080/"
        }
      },
      "outputs": [
        {
          "output_type": "stream",
          "name": "stdout",
          "text": [
            "Cloning into 'CardiacCTAnalysis'...\n",
            "remote: Enumerating objects: 162, done.\u001b[K\n",
            "remote: Counting objects: 100% (162/162), done.\u001b[K\n",
            "remote: Compressing objects: 100% (122/122), done.\u001b[K\n",
            "remote: Total 162 (delta 75), reused 111 (delta 33), pack-reused 0 (from 0)\u001b[K\n",
            "Receiving objects: 100% (162/162), 788.94 KiB | 5.93 MiB/s, done.\n",
            "Resolving deltas: 100% (75/75), done.\n",
            "/content/CardiacCTAnalysis\n",
            "Branch 'baseline_implementation' set up to track remote branch 'baseline_implementation' from 'origin'.\n",
            "Switched to a new branch 'baseline_implementation'\n"
          ]
        }
      ],
      "source": [
        "!git clone https://github.com/AndreasHammerKU/CardiacCTAnalysis.git\n",
        "%cd CardiacCTAnalysis\n",
        "!git checkout baseline_implementation"
      ]
    },
    {
      "cell_type": "markdown",
      "source": [
        "Imports from Github Repository"
      ],
      "metadata": {
        "id": "LJKnX8kpFqeE"
      }
    },
    {
      "cell_type": "code",
      "source": [
        "!pip install dash\n",
        "import numpy as np\n",
        "\n",
        "# Custom Imports\n",
        "import utils.io_utils as io\n",
        "import utils.logger as logs\n",
        "from baseline.BaseEnvironment import MedicalImageEnvironment\n",
        "from utils.io_utils import DataLoader\n",
        "from baseline.BaseAgent import DQNAgent\n",
        "\n",
        "# Mount Drive\n",
        "from google.colab import drive\n",
        "drive.mount('/content/drive')\n",
        "\n",
        "dataset_folder = '/content/drive/MyDrive/Data'"
      ],
      "metadata": {
        "id": "fSdqbyhyQJh9",
        "outputId": "100c4c41-df2e-4d1e-f7a7-8b5e36e3b87f",
        "colab": {
          "base_uri": "https://localhost:8080/",
          "height": 1000
        }
      },
      "execution_count": 2,
      "outputs": [
        {
          "output_type": "stream",
          "name": "stdout",
          "text": [
            "Collecting dash\n",
            "  Downloading dash-2.18.2-py3-none-any.whl.metadata (10 kB)\n",
            "Collecting Flask<3.1,>=1.0.4 (from dash)\n",
            "  Downloading flask-3.0.3-py3-none-any.whl.metadata (3.2 kB)\n",
            "Collecting Werkzeug<3.1 (from dash)\n",
            "  Downloading werkzeug-3.0.6-py3-none-any.whl.metadata (3.7 kB)\n",
            "Requirement already satisfied: plotly>=5.0.0 in /usr/local/lib/python3.11/dist-packages (from dash) (5.24.1)\n",
            "Collecting dash-html-components==2.0.0 (from dash)\n",
            "  Downloading dash_html_components-2.0.0-py3-none-any.whl.metadata (3.8 kB)\n",
            "Collecting dash-core-components==2.0.0 (from dash)\n",
            "  Downloading dash_core_components-2.0.0-py3-none-any.whl.metadata (2.9 kB)\n",
            "Collecting dash-table==5.0.0 (from dash)\n",
            "  Downloading dash_table-5.0.0-py3-none-any.whl.metadata (2.4 kB)\n",
            "Requirement already satisfied: importlib-metadata in /usr/local/lib/python3.11/dist-packages (from dash) (8.6.1)\n",
            "Requirement already satisfied: typing-extensions>=4.1.1 in /usr/local/lib/python3.11/dist-packages (from dash) (4.12.2)\n",
            "Requirement already satisfied: requests in /usr/local/lib/python3.11/dist-packages (from dash) (2.32.3)\n",
            "Collecting retrying (from dash)\n",
            "  Downloading retrying-1.3.4-py3-none-any.whl.metadata (6.9 kB)\n",
            "Requirement already satisfied: nest-asyncio in /usr/local/lib/python3.11/dist-packages (from dash) (1.6.0)\n",
            "Requirement already satisfied: setuptools in /usr/local/lib/python3.11/dist-packages (from dash) (75.1.0)\n",
            "Requirement already satisfied: Jinja2>=3.1.2 in /usr/local/lib/python3.11/dist-packages (from Flask<3.1,>=1.0.4->dash) (3.1.5)\n",
            "Requirement already satisfied: itsdangerous>=2.1.2 in /usr/local/lib/python3.11/dist-packages (from Flask<3.1,>=1.0.4->dash) (2.2.0)\n",
            "Requirement already satisfied: click>=8.1.3 in /usr/local/lib/python3.11/dist-packages (from Flask<3.1,>=1.0.4->dash) (8.1.8)\n",
            "Requirement already satisfied: blinker>=1.6.2 in /usr/local/lib/python3.11/dist-packages (from Flask<3.1,>=1.0.4->dash) (1.9.0)\n",
            "Requirement already satisfied: tenacity>=6.2.0 in /usr/local/lib/python3.11/dist-packages (from plotly>=5.0.0->dash) (9.0.0)\n",
            "Requirement already satisfied: packaging in /usr/local/lib/python3.11/dist-packages (from plotly>=5.0.0->dash) (24.2)\n",
            "Requirement already satisfied: MarkupSafe>=2.1.1 in /usr/local/lib/python3.11/dist-packages (from Werkzeug<3.1->dash) (3.0.2)\n",
            "Requirement already satisfied: zipp>=3.20 in /usr/local/lib/python3.11/dist-packages (from importlib-metadata->dash) (3.21.0)\n",
            "Requirement already satisfied: charset-normalizer<4,>=2 in /usr/local/lib/python3.11/dist-packages (from requests->dash) (3.4.1)\n",
            "Requirement already satisfied: idna<4,>=2.5 in /usr/local/lib/python3.11/dist-packages (from requests->dash) (3.10)\n",
            "Requirement already satisfied: urllib3<3,>=1.21.1 in /usr/local/lib/python3.11/dist-packages (from requests->dash) (2.3.0)\n",
            "Requirement already satisfied: certifi>=2017.4.17 in /usr/local/lib/python3.11/dist-packages (from requests->dash) (2025.1.31)\n",
            "Requirement already satisfied: six>=1.7.0 in /usr/local/lib/python3.11/dist-packages (from retrying->dash) (1.17.0)\n",
            "Downloading dash-2.18.2-py3-none-any.whl (7.8 MB)\n",
            "\u001b[2K   \u001b[90m━━━━━━━━━━━━━━━━━━━━━━━━━━━━━━━━━━━━━━━━\u001b[0m \u001b[32m7.8/7.8 MB\u001b[0m \u001b[31m35.2 MB/s\u001b[0m eta \u001b[36m0:00:00\u001b[0m\n",
            "\u001b[?25hDownloading dash_core_components-2.0.0-py3-none-any.whl (3.8 kB)\n",
            "Downloading dash_html_components-2.0.0-py3-none-any.whl (4.1 kB)\n",
            "Downloading dash_table-5.0.0-py3-none-any.whl (3.9 kB)\n",
            "Downloading flask-3.0.3-py3-none-any.whl (101 kB)\n",
            "\u001b[2K   \u001b[90m━━━━━━━━━━━━━━━━━━━━━━━━━━━━━━━━━━━━━━━━\u001b[0m \u001b[32m101.7/101.7 kB\u001b[0m \u001b[31m5.2 MB/s\u001b[0m eta \u001b[36m0:00:00\u001b[0m\n",
            "\u001b[?25hDownloading werkzeug-3.0.6-py3-none-any.whl (227 kB)\n",
            "\u001b[2K   \u001b[90m━━━━━━━━━━━━━━━━━━━━━━━━━━━━━━━━━━━━━━━━\u001b[0m \u001b[32m228.0/228.0 kB\u001b[0m \u001b[31m13.7 MB/s\u001b[0m eta \u001b[36m0:00:00\u001b[0m\n",
            "\u001b[?25hDownloading retrying-1.3.4-py3-none-any.whl (11 kB)\n",
            "Installing collected packages: dash-table, dash-html-components, dash-core-components, Werkzeug, retrying, Flask, dash\n",
            "  Attempting uninstall: Werkzeug\n",
            "    Found existing installation: Werkzeug 3.1.3\n",
            "    Uninstalling Werkzeug-3.1.3:\n",
            "      Successfully uninstalled Werkzeug-3.1.3\n",
            "  Attempting uninstall: Flask\n",
            "    Found existing installation: Flask 3.1.0\n",
            "    Uninstalling Flask-3.1.0:\n",
            "      Successfully uninstalled Flask-3.1.0\n",
            "Successfully installed Flask-3.0.3 Werkzeug-3.0.6 dash-2.18.2 dash-core-components-2.0.0 dash-html-components-2.0.0 dash-table-5.0.0 retrying-1.3.4\n",
            "Mounted at /content/drive\n"
          ]
        }
      ]
    },
    {
      "cell_type": "markdown",
      "source": [
        "Hyperparameters"
      ],
      "metadata": {
        "id": "cxBDHDMiF2i1"
      }
    },
    {
      "cell_type": "code",
      "source": [
        "MAX_STEPS = 500\n",
        "EPISODES = 50\n",
        "IMAGE_INTERVAL = 2\n",
        "AGENTS = 1\n",
        "N_SAMPLE_POINTS = 5"
      ],
      "metadata": {
        "id": "1w1a_ccfVjkb"
      },
      "execution_count": 9,
      "outputs": []
    },
    {
      "cell_type": "code",
      "source": [
        "debug = False\n",
        "\n",
        "# Colab not enough RAM\n",
        "preload_images = False\n",
        "logger = logs.setup_logger(debug)\n",
        "\n",
        "dataLoader = DataLoader(dataset_folder)"
      ],
      "metadata": {
        "id": "0RQItLAVVltN"
      },
      "execution_count": 10,
      "outputs": []
    },
    {
      "cell_type": "markdown",
      "source": [
        "Training"
      ],
      "metadata": {
        "id": "sZ2Tp0BAGWQl"
      }
    },
    {
      "cell_type": "code",
      "source": [
        "# Initialize training environment\n",
        "env = MedicalImageEnvironment(logger=logger,\n",
        "                              dataLoader=dataLoader,\n",
        "                              image_list=['n1', 'n2', 'n3', 'n4', 'n5', 'n6', 'n7', 'n8', 'n9', 'n10', 'n11', 'n12', 'n13', 'n14', 'n15', 'n16', 'n17', 'n18', 'n19', 'n20', 'n21', 'n22', 'n23', 'n24', 'n25', 'n26', 'n27', 'n28', 'n29', 'n30'],\n",
        "                              agents=AGENTS,\n",
        "                              n_sample_points=N_SAMPLE_POINTS,\n",
        "                              preload_images=preload_images)\n",
        "agent = DQNAgent(environment=env,\n",
        "                 task=\"train\",\n",
        "                 logger=logger,\n",
        "                 state_dim=env.state_size,\n",
        "                 action_dim=env.n_actions,\n",
        "                 agents=AGENTS,\n",
        "                 max_steps=MAX_STEPS,\n",
        "                 episodes=EPISODES,\n",
        "                 image_interval=IMAGE_INTERVAL)\n",
        "\n",
        "agent.train_dqn()"
      ],
      "metadata": {
        "id": "pmwL5j9cWDfy",
        "outputId": "d2bbf974-7d61-439a-b112-a6ecb63bf457",
        "colab": {
          "base_uri": "https://localhost:8080/"
        }
      },
      "execution_count": 11,
      "outputs": [
        {
          "output_type": "stream",
          "name": "stderr",
          "text": [
            "INFO:Logger:Episode 1: Total Reward = tensor([-1.2420], device='cuda:0', dtype=torch.float64) Reached Goal False Closest Point = 15.033296378372908 Furthest Point = 31.71750305430741\n",
            "INFO:Logger:Episode 2: Total Reward = tensor([2.5520], device='cuda:0', dtype=torch.float64) Reached Goal False Closest Point = 4.58257569495584 Furthest Point = 26.324893162176366\n",
            "INFO:Logger:Episode 3: Total Reward = tensor([18.8494], device='cuda:0', dtype=torch.float64) Reached Goal False Closest Point = 4.123105625617661 Furthest Point = 37.26929030716845\n",
            "INFO:Logger:Episode 4: Total Reward = tensor([20.2583], device='cuda:0', dtype=torch.float64) Reached Goal False Closest Point = 13.490737563232042 Furthest Point = 40.311288741492746\n",
            "INFO:Logger:Episode 5: Total Reward = tensor([16.2186], device='cuda:0', dtype=torch.float64) Reached Goal False Closest Point = 2.23606797749979 Furthest Point = 24.819347291981714\n",
            "INFO:Logger:Episode 6: Total Reward = tensor([19.9335], device='cuda:0', dtype=torch.float64) Reached Goal False Closest Point = 1.4142135623730951 Furthest Point = 22.847319317591726\n",
            "INFO:Logger:Episode 7: Total Reward = tensor([-9.0685], device='cuda:0', dtype=torch.float64) Reached Goal False Closest Point = 5.0990195135927845 Furthest Point = 30.495901363953813\n",
            "INFO:Logger:Episode 8: Total Reward = tensor([10.6643], device='cuda:0', dtype=torch.float64) Reached Goal False Closest Point = 4.123105625617661 Furthest Point = 22.825424421026653\n",
            "INFO:Logger:Episode 9: Total Reward = tensor([-7.2706], device='cuda:0', dtype=torch.float64) Reached Goal False Closest Point = 1.4142135623730951 Furthest Point = 38.82009788756334\n",
            "INFO:Logger:Episode 10: Total Reward = tensor([16.8727], device='cuda:0', dtype=torch.float64) Reached Goal False Closest Point = 2.0 Furthest Point = 27.85677655436824\n",
            "INFO:Logger:Episode 11: Total Reward = tensor([20.8259], device='cuda:0', dtype=torch.float64) Reached Goal False Closest Point = 2.8284271247461903 Furthest Point = 33.85262175962151\n",
            "INFO:Logger:Episode 12: Total Reward = tensor([32.9090], device='cuda:0', dtype=torch.float64) Reached Goal True Closest Point = 0.0 Furthest Point = 35.11409973215888\n",
            "INFO:Logger:Episode 13: Total Reward = tensor([12.1926], device='cuda:0', dtype=torch.float64) Reached Goal False Closest Point = 1.0 Furthest Point = 17.320508075688775\n",
            "INFO:Logger:Episode 14: Total Reward = tensor([17.2916], device='cuda:0', dtype=torch.float64) Reached Goal True Closest Point = 0.0 Furthest Point = 17.832554500127006\n",
            "INFO:Logger:Episode 15: Total Reward = tensor([-50.7315], device='cuda:0', dtype=torch.float64) Reached Goal False Closest Point = 4.898979485566356 Furthest Point = 73.13685801290619\n",
            "INFO:Logger:Episode 16: Total Reward = tensor([-1.4484], device='cuda:0', dtype=torch.float64) Reached Goal False Closest Point = 20.273134932713294 Furthest Point = 53.422841556772326\n",
            "INFO:Logger:Episode 17: Total Reward = tensor([19.4526], device='cuda:0', dtype=torch.float64) Reached Goal False Closest Point = 4.47213595499958 Furthest Point = 48.05205510693585\n",
            "INFO:Logger:Episode 18: Total Reward = tensor([7.7383], device='cuda:0', dtype=torch.float64) Reached Goal False Closest Point = 10.954451150103322 Furthest Point = 48.95916665957459\n",
            "INFO:Logger:Episode 19: Total Reward = tensor([10.7273], device='cuda:0', dtype=torch.float64) Reached Goal False Closest Point = 1.4142135623730951 Furthest Point = 35.91656999213594\n",
            "INFO:Logger:Episode 20: Total Reward = tensor([33.7491], device='cuda:0', dtype=torch.float64) Reached Goal True Closest Point = 0.0 Furthest Point = 34.26368339802363\n",
            "INFO:Logger:Episode 21: Total Reward = tensor([3.2428], device='cuda:0', dtype=torch.float64) Reached Goal False Closest Point = 1.0 Furthest Point = 17.832554500127006\n",
            "INFO:Logger:Episode 22: Total Reward = tensor([15.6525], device='cuda:0', dtype=torch.float64) Reached Goal True Closest Point = 0.0 Furthest Point = 17.378147196982766\n",
            "INFO:Logger:Episode 23: Total Reward = tensor([23.1409], device='cuda:0', dtype=torch.float64) Reached Goal False Closest Point = 7.681145747868608 Furthest Point = 35.12833614050059\n",
            "INFO:Logger:Episode 24: Total Reward = tensor([25.8221], device='cuda:0', dtype=torch.float64) Reached Goal False Closest Point = 1.4142135623730951 Furthest Point = 32.66496594212215\n",
            "INFO:Logger:Episode 25: Total Reward = tensor([20.1027], device='cuda:0', dtype=torch.float64) Reached Goal False Closest Point = 3.1622776601683795 Furthest Point = 33.03028912982749\n",
            "INFO:Logger:Episode 26: Total Reward = tensor([32.9090], device='cuda:0', dtype=torch.float64) Reached Goal True Closest Point = 0.0 Furthest Point = 45.760244754590204\n",
            "INFO:Logger:Episode 27: Total Reward = tensor([-85.6388], device='cuda:0', dtype=torch.float64) Reached Goal False Closest Point = 4.0 Furthest Point = 111.2924076476019\n",
            "INFO:Logger:Episode 28: Total Reward = tensor([20.2368], device='cuda:0', dtype=torch.float64) Reached Goal False Closest Point = 4.0 Furthest Point = 46.486557196677836\n",
            "INFO:Logger:Episode 29: Total Reward = tensor([8.7087], device='cuda:0', dtype=torch.float64) Reached Goal False Closest Point = 3.4641016151377544 Furthest Point = 34.56877203488721\n",
            "INFO:Logger:Episode 30: Total Reward = tensor([30.8221], device='cuda:0', dtype=torch.float64) Reached Goal True Closest Point = 0.0 Furthest Point = 33.03028912982749\n",
            "INFO:Logger:Episode 31: Total Reward = tensor([30.0074], device='cuda:0', dtype=torch.float64) Reached Goal False Closest Point = 1.4142135623730951 Furthest Point = 38.17066936798463\n",
            "INFO:Logger:Episode 32: Total Reward = tensor([33.7491], device='cuda:0', dtype=torch.float64) Reached Goal True Closest Point = 0.0 Furthest Point = 34.49637662132068\n",
            "INFO:Logger:Episode 33: Total Reward = tensor([7.8932], device='cuda:0', dtype=torch.float64) Reached Goal False Closest Point = 7.0710678118654755 Furthest Point = 29.732137494637012\n",
            "INFO:Logger:Episode 34: Total Reward = tensor([14.0170], device='cuda:0', dtype=torch.float64) Reached Goal False Closest Point = 5.196152422706632 Furthest Point = 34.219877264537345\n",
            "INFO:Logger:Episode 35: Total Reward = tensor([1.1216], device='cuda:0', dtype=torch.float64) Reached Goal False Closest Point = 4.69041575982343 Furthest Point = 56.45352070508977\n",
            "INFO:Logger:Episode 36: Total Reward = tensor([9.2524], device='cuda:0', dtype=torch.float64) Reached Goal False Closest Point = 6.708203932499369 Furthest Point = 37.322915213043046\n",
            "INFO:Logger:Episode 37: Total Reward = tensor([-35.3183], device='cuda:0', dtype=torch.float64) Reached Goal False Closest Point = 5.385164807134504 Furthest Point = 64.91532946846992\n",
            "INFO:Logger:Episode 38: Total Reward = tensor([27.4591], device='cuda:0', dtype=torch.float64) Reached Goal True Closest Point = 0.0 Furthest Point = 28.442925306655784\n",
            "INFO:Logger:Episode 39: Total Reward = tensor([16.7278], device='cuda:0', dtype=torch.float64) Reached Goal False Closest Point = 1.0 Furthest Point = 22.9128784747792\n",
            "INFO:Logger:Episode 40: Total Reward = tensor([20.4695], device='cuda:0', dtype=torch.float64) Reached Goal True Closest Point = 0.0 Furthest Point = 25.612496949731394\n",
            "INFO:Logger:Episode 41: Total Reward = tensor([23.7697], device='cuda:0', dtype=torch.float64) Reached Goal True Closest Point = 0.0 Furthest Point = 24.819347291981714\n",
            "INFO:Logger:Episode 42: Total Reward = tensor([23.7697], device='cuda:0', dtype=torch.float64) Reached Goal True Closest Point = 0.0 Furthest Point = 24.698178070456937\n",
            "INFO:Logger:Episode 43: Total Reward = tensor([27.4591], device='cuda:0', dtype=torch.float64) Reached Goal True Closest Point = 0.0 Furthest Point = 28.879058156387302\n",
            "INFO:Logger:Episode 44: Total Reward = tensor([27.4591], device='cuda:0', dtype=torch.float64) Reached Goal True Closest Point = 0.0 Furthest Point = 29.698484809834994\n",
            "INFO:Logger:Episode 45: Total Reward = tensor([21.9711], device='cuda:0', dtype=torch.float64) Reached Goal False Closest Point = 1.0 Furthest Point = 30.479501308256342\n",
            "INFO:Logger:Episode 46: Total Reward = tensor([30.0333], device='cuda:0', dtype=torch.float64) Reached Goal True Closest Point = 0.0 Furthest Point = 32.341923257592455\n",
            "INFO:Logger:Episode 47: Total Reward = tensor([16.2186], device='cuda:0', dtype=torch.float64) Reached Goal False Closest Point = 1.0 Furthest Point = 25.15949125081825\n",
            "INFO:Logger:Episode 48: Total Reward = tensor([22.3830], device='cuda:0', dtype=torch.float64) Reached Goal True Closest Point = 0.0 Furthest Point = 26.248809496813376\n",
            "INFO:Logger:Episode 49: Total Reward = tensor([13.9990], device='cuda:0', dtype=torch.float64) Reached Goal False Closest Point = 11.180339887498949 Furthest Point = 36.89173349139343\n",
            "INFO:Logger:Episode 50: Total Reward = tensor([18.7762], device='cuda:0', dtype=torch.float64) Reached Goal False Closest Point = 6.4031242374328485 Furthest Point = 36.41428291206625\n"
          ]
        }
      ]
    },
    {
      "cell_type": "markdown",
      "source": [
        "Evaluate"
      ],
      "metadata": {
        "id": "GOVdGVnNHDyQ"
      }
    },
    {
      "cell_type": "code",
      "source": [
        "logger = logs.setup_logger(True)\n",
        "dataLoader = DataLoader(dataset_folder)\n",
        "\n",
        "env = MedicalImageEnvironment(logger=logger,\n",
        "                              task=\"eval\",\n",
        "                              dataLoader=dataLoader,\n",
        "                              image_list=['n31', 'n32', 'n33', 'n34', 'n35', 'n36', 'n37', 'n38', 'n39', 'n40'],\n",
        "                              agents=AGENTS,\n",
        "                              n_sample_points=N_SAMPLE_POINTS)\n",
        "agent = DQNAgent(environment=env,\n",
        "                 task=\"eval\",\n",
        "                 logger=logger,\n",
        "                 state_dim=env.state_size,\n",
        "                 action_dim=env.n_actions,\n",
        "                 agents=AGENTS,\n",
        "                 model_path=\"latest-model.pt\",\n",
        "                 max_steps=30,\n",
        "                 episodes=10\n",
        "                 )\n",
        "\n",
        "agent.evaluate_dqn()"
      ],
      "metadata": {
        "id": "5dpulPtxVpIa",
        "outputId": "0f610566-a722-413f-bec7-97002bdc332c",
        "colab": {
          "base_uri": "https://localhost:8080/"
        }
      },
      "execution_count": 13,
      "outputs": [
        {
          "output_type": "stream",
          "name": "stderr",
          "text": [
            "DEBUG:Logger:Loaded Policy net from latest-model.pt\n",
            "DEBUG:Logger:Loaded image: n31 with ground truth [245. 201. 315.] and starting point [223. 199. 312.]\n"
          ]
        },
        {
          "output_type": "stream",
          "name": "stdout",
          "text": [
            "Evaluation Episode 1: Total Reward = tensor([12.5981], device='cuda:0', dtype=torch.float64) | Closest Point: 3.605551275463989 | Furthest Point: 21.307275752662516\n"
          ]
        },
        {
          "output_type": "stream",
          "name": "stderr",
          "text": [
            "DEBUG:Logger:Loaded image: n32 with ground truth [256. 224. 197.] and starting point [234. 225. 206.]\n"
          ]
        },
        {
          "output_type": "stream",
          "name": "stdout",
          "text": [
            "Evaluation Episode 2: Total Reward = tensor([11.0236], device='cuda:0', dtype=torch.float64) | Closest Point: 9.055385138137417 | Furthest Point: 22.869193252058544\n"
          ]
        },
        {
          "output_type": "stream",
          "name": "stderr",
          "text": [
            "DEBUG:Logger:Loaded image: n33 with ground truth [206. 183. 272.] and starting point [182. 186. 278.]\n"
          ]
        },
        {
          "output_type": "stream",
          "name": "stdout",
          "text": [
            "Evaluation Episode 3: Total Reward = tensor([8.8575], device='cuda:0', dtype=torch.float64) | Closest Point: 10.0 | Furthest Point: 23.958297101421877\n"
          ]
        },
        {
          "output_type": "stream",
          "name": "stderr",
          "text": [
            "DEBUG:Logger:Loaded image: n34 with ground truth [263. 208. 197.] and starting point [239. 202. 203.]\n"
          ]
        },
        {
          "output_type": "stream",
          "name": "stdout",
          "text": [
            "Evaluation Episode 4: Total Reward = tensor([14.4558], device='cuda:0', dtype=torch.float64) | Closest Point: 8.48528137423857 | Furthest Point: 24.515301344262525\n"
          ]
        },
        {
          "output_type": "stream",
          "name": "stderr",
          "text": [
            "DEBUG:Logger:Loaded image: n35 with ground truth [236. 222. 239.] and starting point [218. 226. 244.]\n"
          ]
        },
        {
          "output_type": "stream",
          "name": "stdout",
          "text": [
            "Evaluation Episode 5: Total Reward = tensor([4.6136], device='cuda:0', dtype=torch.float64) | Closest Point: 6.4031242374328485 | Furthest Point: 18.16590212458495\n"
          ]
        },
        {
          "output_type": "stream",
          "name": "stderr",
          "text": [
            "DEBUG:Logger:Loaded image: n36 with ground truth [232. 215. 270.] and starting point [215. 216. 282.]\n"
          ]
        },
        {
          "output_type": "stream",
          "name": "stdout",
          "text": [
            "Evaluation Episode 6: Total Reward = tensor([-6.2043], device='cuda:0', dtype=torch.float64) | Closest Point: 13.038404810405298 | Furthest Point: 27.184554438136374\n"
          ]
        },
        {
          "output_type": "stream",
          "name": "stderr",
          "text": [
            "DEBUG:Logger:Loaded image: n37 with ground truth [254. 229. 203.] and starting point [229. 221. 202.]\n"
          ]
        },
        {
          "output_type": "stream",
          "name": "stdout",
          "text": [
            "Evaluation Episode 7: Total Reward = tensor([16.8339], device='cuda:0', dtype=torch.float64) | Closest Point: 8.06225774829855 | Furthest Point: 25.317977802344327\n"
          ]
        },
        {
          "output_type": "stream",
          "name": "stderr",
          "text": [
            "DEBUG:Logger:Loaded image: n38 with ground truth [261. 214. 280.] and starting point [234. 209. 290.]\n"
          ]
        },
        {
          "output_type": "stream",
          "name": "stdout",
          "text": [
            "Evaluation Episode 8: Total Reward = tensor([16.1466], device='cuda:0', dtype=torch.float64) | Closest Point: 13.076696830622021 | Furthest Point: 28.30194339616981\n"
          ]
        },
        {
          "output_type": "stream",
          "name": "stderr",
          "text": [
            "DEBUG:Logger:Loaded image: n39 with ground truth [227. 212. 358.] and starting point [206. 213. 351.]\n"
          ]
        },
        {
          "output_type": "stream",
          "name": "stdout",
          "text": [
            "Evaluation Episode 9: Total Reward = tensor([19.7090], device='cuda:0', dtype=torch.float64) | Closest Point: 2.23606797749979 | Furthest Point: 21.213203435596427\n"
          ]
        },
        {
          "output_type": "stream",
          "name": "stderr",
          "text": [
            "DEBUG:Logger:Loaded image: n40 with ground truth [233. 234. 238.] and starting point [217. 233. 238.]\n"
          ]
        },
        {
          "output_type": "stream",
          "name": "stdout",
          "text": [
            "Evaluation Episode 10: Total Reward = tensor([0.9979], device='cuda:0', dtype=torch.float64) | Closest Point: 1.0 | Furthest Point: 15.033296378372908\n",
            "\n",
            "===== Evaluation Summary =====\n",
            "Average Reward: 9.90\n",
            "Success Rate: 0.00%\n",
            "Average Closest Distance: 7.50\n",
            "Average Furthest Distance: 22.79\n"
          ]
        }
      ]
    }
  ],
  "metadata": {
    "kernelspec": {
      "display_name": "Python 3",
      "name": "python3"
    },
    "language_info": {
      "codemirror_mode": {
        "name": "ipython",
        "version": 3
      },
      "file_extension": ".py",
      "mimetype": "text/x-python",
      "name": "python",
      "nbconvert_exporter": "python",
      "pygments_lexer": "ipython3",
      "version": "3.8"
    },
    "colab": {
      "provenance": [],
      "gpuType": "T4"
    },
    "accelerator": "GPU"
  },
  "nbformat": 4,
  "nbformat_minor": 0
}