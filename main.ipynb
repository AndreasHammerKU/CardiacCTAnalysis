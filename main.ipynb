{
  "cells": [
    {
      "cell_type": "markdown",
      "source": [
        "Import"
      ],
      "metadata": {
        "id": "6RQrmsSvQSPm"
      }
    },
    {
      "cell_type": "code",
      "execution_count": 1,
      "metadata": {
        "id": "n2SDSNvHQBqh",
        "outputId": "fe0be7e4-f4e0-458d-c501-5e141ced2346",
        "colab": {
          "base_uri": "https://localhost:8080/"
        }
      },
      "outputs": [
        {
          "output_type": "stream",
          "name": "stdout",
          "text": [
            "Cloning into 'CardiacCTAnalysis'...\n",
            "remote: Enumerating objects: 277, done.\u001b[K\n",
            "remote: Counting objects: 100% (54/54), done.\u001b[K\n",
            "remote: Compressing objects: 100% (44/44), done.\u001b[K\n",
            "remote: Total 277 (delta 17), reused 22 (delta 10), pack-reused 223 (from 1)\u001b[K\n",
            "Receiving objects: 100% (277/277), 1.66 MiB | 25.41 MiB/s, done.\n",
            "Resolving deltas: 100% (143/143), done.\n",
            "/content/CardiacCTAnalysis\n",
            "Branch 'add_frame_history' set up to track remote branch 'add_frame_history' from 'origin'.\n",
            "Switched to a new branch 'add_frame_history'\n"
          ]
        }
      ],
      "source": [
        "!git clone https://github.com/AndreasHammerKU/CardiacCTAnalysis.git\n",
        "%cd CardiacCTAnalysis\n",
        "!git checkout add_frame_history"
      ]
    },
    {
      "cell_type": "markdown",
      "source": [
        "Imports from Github Repository"
      ],
      "metadata": {
        "id": "LJKnX8kpFqeE"
      }
    },
    {
      "cell_type": "code",
      "source": [
        "!pip install dash\n",
        "import numpy as np\n",
        "\n",
        "# Custom Imports\n",
        "import utils.io_utils as io\n",
        "import utils.logger as logs\n",
        "from baseline.BaseEnvironment import MedicalImageEnvironment\n",
        "from utils.io_utils import DataLoader\n",
        "from baseline.BaseAgent import DQNAgent\n",
        "\n",
        "# Mount Drive\n",
        "from google.colab import drive\n",
        "drive.mount('/content/drive')\n",
        "\n",
        "dataset_folder = '/content/drive/MyDrive/Data'"
      ],
      "metadata": {
        "id": "fSdqbyhyQJh9",
        "outputId": "750d9ce4-45a6-4fd2-f49c-5c5440e5f281",
        "colab": {
          "base_uri": "https://localhost:8080/",
          "height": 954
        }
      },
      "execution_count": 2,
      "outputs": [
        {
          "output_type": "stream",
          "name": "stdout",
          "text": [
            "Collecting dash\n",
            "  Downloading dash-2.18.2-py3-none-any.whl.metadata (10 kB)\n",
            "Collecting Flask<3.1,>=1.0.4 (from dash)\n",
            "  Downloading flask-3.0.3-py3-none-any.whl.metadata (3.2 kB)\n",
            "Collecting Werkzeug<3.1 (from dash)\n",
            "  Downloading werkzeug-3.0.6-py3-none-any.whl.metadata (3.7 kB)\n",
            "Requirement already satisfied: plotly>=5.0.0 in /usr/local/lib/python3.11/dist-packages (from dash) (5.24.1)\n",
            "Collecting dash-html-components==2.0.0 (from dash)\n",
            "  Downloading dash_html_components-2.0.0-py3-none-any.whl.metadata (3.8 kB)\n",
            "Collecting dash-core-components==2.0.0 (from dash)\n",
            "  Downloading dash_core_components-2.0.0-py3-none-any.whl.metadata (2.9 kB)\n",
            "Collecting dash-table==5.0.0 (from dash)\n",
            "  Downloading dash_table-5.0.0-py3-none-any.whl.metadata (2.4 kB)\n",
            "Requirement already satisfied: importlib-metadata in /usr/local/lib/python3.11/dist-packages (from dash) (8.6.1)\n",
            "Requirement already satisfied: typing-extensions>=4.1.1 in /usr/local/lib/python3.11/dist-packages (from dash) (4.12.2)\n",
            "Requirement already satisfied: requests in /usr/local/lib/python3.11/dist-packages (from dash) (2.32.3)\n",
            "Collecting retrying (from dash)\n",
            "  Downloading retrying-1.3.4-py3-none-any.whl.metadata (6.9 kB)\n",
            "Requirement already satisfied: nest-asyncio in /usr/local/lib/python3.11/dist-packages (from dash) (1.6.0)\n",
            "Requirement already satisfied: setuptools in /usr/local/lib/python3.11/dist-packages (from dash) (75.1.0)\n",
            "Requirement already satisfied: Jinja2>=3.1.2 in /usr/local/lib/python3.11/dist-packages (from Flask<3.1,>=1.0.4->dash) (3.1.5)\n",
            "Requirement already satisfied: itsdangerous>=2.1.2 in /usr/local/lib/python3.11/dist-packages (from Flask<3.1,>=1.0.4->dash) (2.2.0)\n",
            "Requirement already satisfied: click>=8.1.3 in /usr/local/lib/python3.11/dist-packages (from Flask<3.1,>=1.0.4->dash) (8.1.8)\n",
            "Requirement already satisfied: blinker>=1.6.2 in /usr/local/lib/python3.11/dist-packages (from Flask<3.1,>=1.0.4->dash) (1.9.0)\n",
            "Requirement already satisfied: tenacity>=6.2.0 in /usr/local/lib/python3.11/dist-packages (from plotly>=5.0.0->dash) (9.0.0)\n",
            "Requirement already satisfied: packaging in /usr/local/lib/python3.11/dist-packages (from plotly>=5.0.0->dash) (24.2)\n",
            "Requirement already satisfied: MarkupSafe>=2.1.1 in /usr/local/lib/python3.11/dist-packages (from Werkzeug<3.1->dash) (3.0.2)\n",
            "Requirement already satisfied: zipp>=3.20 in /usr/local/lib/python3.11/dist-packages (from importlib-metadata->dash) (3.21.0)\n",
            "Requirement already satisfied: charset-normalizer<4,>=2 in /usr/local/lib/python3.11/dist-packages (from requests->dash) (3.4.1)\n",
            "Requirement already satisfied: idna<4,>=2.5 in /usr/local/lib/python3.11/dist-packages (from requests->dash) (3.10)\n",
            "Requirement already satisfied: urllib3<3,>=1.21.1 in /usr/local/lib/python3.11/dist-packages (from requests->dash) (2.3.0)\n",
            "Requirement already satisfied: certifi>=2017.4.17 in /usr/local/lib/python3.11/dist-packages (from requests->dash) (2025.1.31)\n",
            "Requirement already satisfied: six>=1.7.0 in /usr/local/lib/python3.11/dist-packages (from retrying->dash) (1.17.0)\n",
            "Downloading dash-2.18.2-py3-none-any.whl (7.8 MB)\n",
            "\u001b[2K   \u001b[90m━━━━━━━━━━━━━━━━━━━━━━━━━━━━━━━━━━━━━━━━\u001b[0m \u001b[32m7.8/7.8 MB\u001b[0m \u001b[31m48.4 MB/s\u001b[0m eta \u001b[36m0:00:00\u001b[0m\n",
            "\u001b[?25hDownloading dash_core_components-2.0.0-py3-none-any.whl (3.8 kB)\n",
            "Downloading dash_html_components-2.0.0-py3-none-any.whl (4.1 kB)\n",
            "Downloading dash_table-5.0.0-py3-none-any.whl (3.9 kB)\n",
            "Downloading flask-3.0.3-py3-none-any.whl (101 kB)\n",
            "\u001b[2K   \u001b[90m━━━━━━━━━━━━━━━━━━━━━━━━━━━━━━━━━━━━━━━━\u001b[0m \u001b[32m101.7/101.7 kB\u001b[0m \u001b[31m4.4 MB/s\u001b[0m eta \u001b[36m0:00:00\u001b[0m\n",
            "\u001b[?25hDownloading werkzeug-3.0.6-py3-none-any.whl (227 kB)\n",
            "\u001b[2K   \u001b[90m━━━━━━━━━━━━━━━━━━━━━━━━━━━━━━━━━━━━━━━━\u001b[0m \u001b[32m228.0/228.0 kB\u001b[0m \u001b[31m7.5 MB/s\u001b[0m eta \u001b[36m0:00:00\u001b[0m\n",
            "\u001b[?25hDownloading retrying-1.3.4-py3-none-any.whl (11 kB)\n",
            "Installing collected packages: dash-table, dash-html-components, dash-core-components, Werkzeug, retrying, Flask, dash\n",
            "  Attempting uninstall: Werkzeug\n",
            "    Found existing installation: Werkzeug 3.1.3\n",
            "    Uninstalling Werkzeug-3.1.3:\n",
            "      Successfully uninstalled Werkzeug-3.1.3\n",
            "  Attempting uninstall: Flask\n",
            "    Found existing installation: Flask 3.1.0\n",
            "    Uninstalling Flask-3.1.0:\n",
            "      Successfully uninstalled Flask-3.1.0\n",
            "Successfully installed Flask-3.0.3 Werkzeug-3.0.6 dash-2.18.2 dash-core-components-2.0.0 dash-html-components-2.0.0 dash-table-5.0.0 retrying-1.3.4\n",
            "Mounted at /content/drive\n"
          ]
        }
      ]
    },
    {
      "cell_type": "markdown",
      "source": [
        "Hyperparameters"
      ],
      "metadata": {
        "id": "cxBDHDMiF2i1"
      }
    },
    {
      "cell_type": "code",
      "source": [
        "MAX_STEPS = 500\n",
        "EPISODES = 40\n",
        "IMAGE_INTERVAL = 2\n",
        "AGENTS = 6\n",
        "EVALUATION_STEPS = 30\n",
        "DECAY = 200 # EPSILON = MIN_EPS - (MAX_EPS - MIN_EPS) * e^(-1 * current_step / decay)"
      ],
      "metadata": {
        "id": "1w1a_ccfVjkb"
      },
      "execution_count": 3,
      "outputs": []
    },
    {
      "cell_type": "code",
      "source": [
        "debug = False\n",
        "\n",
        "# Colab not enough RAM\n",
        "preload_images = False\n",
        "logger = logs.setup_logger(debug)\n",
        "\n",
        "dataLoader = DataLoader(dataset_folder)"
      ],
      "metadata": {
        "id": "0RQItLAVVltN"
      },
      "execution_count": 4,
      "outputs": []
    },
    {
      "cell_type": "markdown",
      "source": [
        "Training"
      ],
      "metadata": {
        "id": "sZ2Tp0BAGWQl"
      }
    },
    {
      "cell_type": "code",
      "source": [
        "# Initialize training environment\n",
        "train_env = MedicalImageEnvironment(logger=logger,\n",
        "                              dataLoader=dataLoader,\n",
        "                              image_list=['n1', 'n2', 'n3', 'n4', 'n5', 'n6', 'n7', 'n8', 'n9', 'n10', 'n11', 'n12', 'n13', 'n14', 'n15', 'n16', 'n17', 'n18', 'n19', 'n20', 'n21', 'n22', 'n23', 'n24', 'n25', 'n26', 'n27', 'n28', 'n29', 'n30'],\n",
        "                              agents=AGENTS,\n",
        "                              preload_images=preload_images)\n",
        "eval_env = MedicalImageEnvironment(logger=logger,\n",
        "                              task=\"eval\",\n",
        "                              dataLoader=dataLoader,\n",
        "                              image_list=['n31', 'n32', 'n33', 'n34', 'n35', 'n36', 'n37', 'n38', 'n39', 'n40'],\n",
        "                              agents=AGENTS)\n",
        "agent = DQNAgent(train_environment=train_env,\n",
        "                 eval_environment=eval_env,\n",
        "                 task=\"train\",\n",
        "                 logger=logger,\n",
        "                 state_dim=train_env.state_size,\n",
        "                 action_dim=train_env.n_actions,\n",
        "                 agents=AGENTS,\n",
        "                 max_steps=MAX_STEPS,\n",
        "                 episodes=EPISODES,\n",
        "                 decay=DECAY,\n",
        "                 image_interval=IMAGE_INTERVAL,\n",
        "                 evaluation_steps=EVALUATION_STEPS)\n",
        "\n",
        "agent.train_dqn()"
      ],
      "metadata": {
        "id": "pmwL5j9cWDfy",
        "outputId": "f9791559-c025-4a10-b4ae-da0787ec70aa",
        "colab": {
          "base_uri": "https://localhost:8080/",
          "height": 454
        }
      },
      "execution_count": 6,
      "outputs": [
        {
          "output_type": "stream",
          "name": "stderr",
          "text": [
            "INFO:Logger:Episode 1: Total Reward = -17.05 | Final Avg Distance 45.80 | All Reached Goal False | Avg Closest Point = 8.09 | Avg Furthest Point = 57.87\n",
            "INFO:Logger:Episode 2: Total Reward = -3.57 | Final Avg Distance 32.32 | All Reached Goal False | Avg Closest Point = 8.03 | Avg Furthest Point = 43.44\n",
            "INFO:Logger:Episode 3: Total Reward = 6.92 | Final Avg Distance 26.76 | All Reached Goal False | Avg Closest Point = 8.75 | Avg Furthest Point = 46.53\n",
            "INFO:Logger:Episode 4: Total Reward = 11.72 | Final Avg Distance 21.96 | All Reached Goal False | Avg Closest Point = 5.21 | Avg Furthest Point = 44.09\n",
            "INFO:Logger:Episode 5: Total Reward = -35.59 | Final Avg Distance 60.90 | All Reached Goal False | Avg Closest Point = 8.01 | Avg Furthest Point = 64.10\n",
            "INFO:Logger:Episode 6: Total Reward = -28.80 | Final Avg Distance 54.11 | All Reached Goal False | Avg Closest Point = 7.84 | Avg Furthest Point = 60.07\n",
            "INFO:Logger:Episode 7: Total Reward = 1.31 | Final Avg Distance 37.51 | All Reached Goal False | Avg Closest Point = 8.94 | Avg Furthest Point = 48.45\n",
            "INFO:Logger:Episode 8: Total Reward = -0.78 | Final Avg Distance 39.60 | All Reached Goal False | Avg Closest Point = 11.30 | Avg Furthest Point = 57.01\n",
            "INFO:Logger:Episode 9: Total Reward = -11.33 | Final Avg Distance 41.46 | All Reached Goal False | Avg Closest Point = 7.46 | Avg Furthest Point = 47.33\n"
          ]
        },
        {
          "output_type": "error",
          "ename": "KeyboardInterrupt",
          "evalue": "",
          "traceback": [
            "\u001b[0;31m---------------------------------------------------------------------------\u001b[0m",
            "\u001b[0;31mKeyboardInterrupt\u001b[0m                         Traceback (most recent call last)",
            "\u001b[0;32m<ipython-input-6-7fe3ed0c44dc>\u001b[0m in \u001b[0;36m<cell line: 0>\u001b[0;34m()\u001b[0m\n\u001b[1;32m     23\u001b[0m                  evaluation_steps=EVALUATION_STEPS)\n\u001b[1;32m     24\u001b[0m \u001b[0;34m\u001b[0m\u001b[0m\n\u001b[0;32m---> 25\u001b[0;31m \u001b[0magent\u001b[0m\u001b[0;34m.\u001b[0m\u001b[0mtrain_dqn\u001b[0m\u001b[0;34m(\u001b[0m\u001b[0;34m)\u001b[0m\u001b[0;34m\u001b[0m\u001b[0;34m\u001b[0m\u001b[0m\n\u001b[0m",
            "\u001b[0;32m/content/CardiacCTAnalysis/baseline/BaseAgent.py\u001b[0m in \u001b[0;36mtrain_dqn\u001b[0;34m(self, new_image_interval)\u001b[0m\n\u001b[1;32m    159\u001b[0m                 \u001b[0mself\u001b[0m\u001b[0;34m.\u001b[0m\u001b[0mtarget_net\u001b[0m\u001b[0;34m.\u001b[0m\u001b[0mload_state_dict\u001b[0m\u001b[0;34m(\u001b[0m\u001b[0mtarget_net_state_dict\u001b[0m\u001b[0;34m)\u001b[0m\u001b[0;34m\u001b[0m\u001b[0;34m\u001b[0m\u001b[0m\n\u001b[1;32m    160\u001b[0m                 \u001b[0mself\u001b[0m\u001b[0;34m.\u001b[0m\u001b[0mtotal_steps\u001b[0m \u001b[0;34m+=\u001b[0m \u001b[0;36m1\u001b[0m\u001b[0;34m\u001b[0m\u001b[0;34m\u001b[0m\u001b[0m\n\u001b[0;32m--> 161\u001b[0;31m                 \u001b[0mtotal_reward\u001b[0m \u001b[0;34m+=\u001b[0m \u001b[0mrewards\u001b[0m\u001b[0;34m.\u001b[0m\u001b[0mmean\u001b[0m\u001b[0;34m(\u001b[0m\u001b[0mdim\u001b[0m\u001b[0;34m=\u001b[0m\u001b[0;36m0\u001b[0m\u001b[0;34m)\u001b[0m\u001b[0;34m.\u001b[0m\u001b[0mitem\u001b[0m\u001b[0;34m(\u001b[0m\u001b[0;34m)\u001b[0m\u001b[0;34m\u001b[0m\u001b[0;34m\u001b[0m\u001b[0m\n\u001b[0m\u001b[1;32m    162\u001b[0m                 \u001b[0mcurrent_distances\u001b[0m \u001b[0;34m=\u001b[0m \u001b[0mself\u001b[0m\u001b[0;34m.\u001b[0m\u001b[0menv\u001b[0m\u001b[0;34m.\u001b[0m\u001b[0mdistance_to_truth\u001b[0m\u001b[0;34m\u001b[0m\u001b[0;34m\u001b[0m\u001b[0m\n\u001b[1;32m    163\u001b[0m                 \u001b[0mclosest_point\u001b[0m \u001b[0;34m=\u001b[0m \u001b[0mnp\u001b[0m\u001b[0;34m.\u001b[0m\u001b[0mminimum\u001b[0m\u001b[0;34m(\u001b[0m\u001b[0mclosest_point\u001b[0m\u001b[0;34m,\u001b[0m \u001b[0mcurrent_distances\u001b[0m\u001b[0;34m)\u001b[0m\u001b[0;34m\u001b[0m\u001b[0;34m\u001b[0m\u001b[0m\n",
            "\u001b[0;31mKeyboardInterrupt\u001b[0m: "
          ]
        }
      ]
    },
    {
      "cell_type": "code",
      "source": [
        "train_env.visualize_current_state()"
      ],
      "metadata": {
        "id": "Sck0XbdLPKYq"
      },
      "execution_count": null,
      "outputs": []
    },
    {
      "cell_type": "code",
      "source": [
        "eval_env.visualize_current_state()"
      ],
      "metadata": {
        "id": "HVFfYELePDsh"
      },
      "execution_count": null,
      "outputs": []
    },
    {
      "cell_type": "markdown",
      "source": [
        "Evaluate"
      ],
      "metadata": {
        "id": "GOVdGVnNHDyQ"
      }
    },
    {
      "cell_type": "code",
      "source": [
        "test_env = MedicalImageEnvironment(logger=logger,\n",
        "                              task=\"test\",\n",
        "                              dataLoader=dataLoader,\n",
        "                              image_list=['n41', 'n42', 'n43', 'n44', 'n45', 'n46', 'n47', 'n48', 'n49', 'n50'],\n",
        "                              agents=AGENTS)\n",
        "agent = DQNAgent(train_environment=train_env,\n",
        "                 eval_environment=eval_env,\n",
        "                 test_environment=test_env,\n",
        "                 task=\"test\",\n",
        "                 logger=logger,\n",
        "                 state_dim=test_env.state_size,\n",
        "                 action_dim=test_env.n_actions,\n",
        "                 agents=AGENTS,\n",
        "                 model_path=\"latest-model.pt\",\n",
        "                 max_steps=MAX_STEPS,\n",
        "                 episodes=EPISODES,\n",
        "                 evaluation_steps=25\n",
        "                 )\n",
        "\n",
        "agent.test_dqn()"
      ],
      "metadata": {
        "id": "5dpulPtxVpIa"
      },
      "execution_count": null,
      "outputs": []
    },
    {
      "cell_type": "code",
      "source": [
        "test_env.visualize_current_state()"
      ],
      "metadata": {
        "id": "PEktgauIeDi4"
      },
      "execution_count": null,
      "outputs": []
    }
  ],
  "metadata": {
    "kernelspec": {
      "display_name": "Python 3",
      "name": "python3"
    },
    "language_info": {
      "codemirror_mode": {
        "name": "ipython",
        "version": 3
      },
      "file_extension": ".py",
      "mimetype": "text/x-python",
      "name": "python",
      "nbconvert_exporter": "python",
      "pygments_lexer": "ipython3",
      "version": "3.8"
    },
    "colab": {
      "provenance": [],
      "gpuType": "T4"
    },
    "accelerator": "GPU"
  },
  "nbformat": 4,
  "nbformat_minor": 0
}